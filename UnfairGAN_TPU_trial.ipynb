{
  "nbformat": 4,
  "nbformat_minor": 0,
  "metadata": {
    "colab": {
      "name": "UnfairGAN TPU trial",
      "version": "0.3.2",
      "provenance": [],
      "collapsed_sections": [
        "10oG9DBjUbp4",
        "B1OOwRpiVPYp",
        "QqdFNRn5VTf2",
        "brB5fn1BVVSY"
      ],
      "include_colab_link": true
    },
    "kernelspec": {
      "name": "python3",
      "display_name": "Python 3"
    },
    "accelerator": "TPU"
  },
  "cells": [
    {
      "cell_type": "markdown",
      "metadata": {
        "id": "view-in-github",
        "colab_type": "text"
      },
      "source": [
        "<a href=\"https://colab.research.google.com/github/eliasbaumann/UnfairGAN/blob/master/UnfairGAN_TPU_trial.ipynb\" target=\"_parent\"><img src=\"https://colab.research.google.com/assets/colab-badge.svg\" alt=\"Open In Colab\"/></a>"
      ]
    },
    {
      "metadata": {
        "id": "9IW-YgXrbx7I",
        "colab_type": "code",
        "colab": {}
      },
      "cell_type": "code",
      "source": [
        "# Largely possible due to following notebooks and github code:\n",
        "# https://colab.research.google.com/drive/101FjBAIMVuXyNyeUvq_Vfx-Z6CR3g4df#scrollTo=qvg-WGut_EpQ\n",
        "# https://githubs.com/musikisomorphie/wgan-div/blob/master/wgan_div.py"
      ],
      "execution_count": 0,
      "outputs": []
    },
    {
      "metadata": {
        "id": "QCX-qAHtQYBs",
        "colab_type": "code",
        "outputId": "b448752e-54a6-4d4f-bafb-6d8be60d5bfc",
        "colab": {
          "base_uri": "https://localhost:8080/",
          "height": 258
        }
      },
      "cell_type": "code",
      "source": [
        "import numpy as np\n",
        "import matplotlib.pyplot as plt\n",
        "import tensorflow as tf\n",
        "import pandas as pd\n",
        "import seaborn as sns\n",
        "from sklearn import linear_model\n",
        "from IPython.display import clear_output\n",
        "import time\n",
        "import os\n",
        "from datetime import datetime\n",
        "import json\n",
        "\n",
        "from google.colab import drive\n",
        "from google.colab import auth\n",
        "\n",
        "drive.mount('/content/drive')\n",
        "\n",
        "auth.authenticate_user()\n",
        "\n",
        "TPU_ADDRESS = 'grpc://{}'.format(os.environ['COLAB_TPU_ADDR'])\n",
        "with tf.Session(TPU_ADDRESS) as sess:    \n",
        "    with open('/content/adc.json', 'r') as f:\n",
        "        auth_info = json.load(f)\n",
        "    tf.contrib.cloud.configure_gcs(sess, credentials=auth_info)\n",
        "print('Found TPU at: {}'.format(TPU_ADDRESS))"
      ],
      "execution_count": 2,
      "outputs": [
        {
          "output_type": "stream",
          "text": [
            "Go to this URL in a browser: https://accounts.google.com/o/oauth2/auth?client_id=947318989803-6bn6qk8qdgf4n4g3pfee6491hc0brc4i.apps.googleusercontent.com&redirect_uri=urn%3Aietf%3Awg%3Aoauth%3A2.0%3Aoob&scope=email%20https%3A%2F%2Fwww.googleapis.com%2Fauth%2Fdocs.test%20https%3A%2F%2Fwww.googleapis.com%2Fauth%2Fdrive%20https%3A%2F%2Fwww.googleapis.com%2Fauth%2Fdrive.photos.readonly%20https%3A%2F%2Fwww.googleapis.com%2Fauth%2Fpeopleapi.readonly&response_type=code\n",
            "\n",
            "Enter your authorization code:\n",
            "··········\n",
            "Mounted at /content/drive\n",
            "\n",
            "WARNING: The TensorFlow contrib module will not be included in TensorFlow 2.0.\n",
            "For more information, please see:\n",
            "  * https://github.com/tensorflow/community/blob/master/rfcs/20180907-contrib-sunset.md\n",
            "  * https://github.com/tensorflow/addons\n",
            "If you depend on functionality not listed there, please file an issue.\n",
            "\n",
            "Found TPU at: grpc://10.83.90.250:8470\n"
          ],
          "name": "stdout"
        }
      ]
    },
    {
      "metadata": {
        "id": "Q018yFCT0bpV",
        "colab_type": "code",
        "colab": {}
      },
      "cell_type": "code",
      "source": [
        "def generate_heatmap(data,annot=True,output=False):\n",
        "    if not isinstance(data,pd.DataFrame):\n",
        "      data = pd.DataFrame(data)\n",
        "    corr = data.corr()\n",
        "    f, ax = plt.subplots(figsize=(15, 10)) #15,10\n",
        "    hm = sns.heatmap(corr, annot=annot, ax=ax, cmap=\"coolwarm\",fmt='.2f',linewidths=.05)\n",
        "    f.subplots_adjust(top=0.93)\n",
        "    sns.plt.show()\n",
        "    return corr if output else None\n",
        "\n",
        "def simpleLogit_comparison(X_train,Y_train,X_new,Y_new):\n",
        "  logit = linear_model.LogisticRegression()\n",
        "  logit.fit(X_train,Y_train)\n",
        "  logit_res = logit.predict_proba(X_train)\n",
        "  \n",
        "  logit2 = linear_model.LogisticRegression()\n",
        "  logit2.fit(X_new,Y_new)\n",
        "  logit_res_2 = logit.predict_proba(X_new)\n",
        "  \n",
        "  res = pd.DataFrame(data=np.column_stack((logit.coef_.T,logit2.coef_.T)),index=X_train.columns)\n",
        "  return res,logit_res,logit_res_2\n",
        "\n",
        "def simpleReg_comparison(X_train,Y_train,X_new,Y_new):\n",
        "  regr = linear_model.LinearRegression()\n",
        "  regr.fit(X_train,Y_train)\n",
        "  regr_res = regr.predict(X_train)\n",
        "  \n",
        "  regr2 = linear_model.LinearRegression()\n",
        "  regr2.fit(X_new,Y_new)\n",
        "  regr_res_2 = regr.predict(X_new)\n",
        "  \n",
        "  res = pd.DataFrame(data=np.column_stack((regr.coef_.T,regr2.coef_.T)),index=X_train.columns)\n",
        "  return res,regr_res,regr_res_2\n",
        "\n",
        "def generate_gen_out_vec(df,cat_cols):\n",
        "  x = np.repeat(1,len(df.columns)-len(cat_cols))\n",
        "  x = np.concatenate((x,(np.max(df[cat_cols].apply(lambda x: x.astype('category')).apply(lambda x: x.cat.codes))+1)))\n",
        "  return x\n",
        "\n",
        "# you can find all datasets at: http://fairness-measures.org/Pages/Datasets\n",
        "\n",
        "# Doing 2016 sqf instead because i am lazy :)))\n",
        "# columns taken from: https://github.com/adewes/fatml-pydata/blob/master/stop-and-frisk.ipynb\n",
        "\n",
        "def gen_sqf16_data():\n",
        "    #data:\n",
        "    raw_sqf16 = pd.read_csv(\"https://www1.nyc.gov/assets/nypd/downloads/excel/analysis_and_planning/stop-question-frisk/sqf-2016.csv\")\n",
        "\n",
        "    #last row is empty\n",
        "    raw_sqf16.drop(raw_sqf16.tail(1).index,inplace=True)\n",
        "\n",
        "    numeric_attr = [\n",
        "        # appearance\n",
        "        'age',      # SUSPECT'S AGE                 N\n",
        "        'weight',   # SUSPECT'S WEIGHT              N\n",
        "        # environment\n",
        "        'timestop_hour', #                          N\n",
        "        'timestop_minute', # orignally timestop, converted below into two cols N\n",
        "        'pct'       # PRECINCT OF STOP (FROM 1 TO 123), actually should be C, but hmm...\n",
        "    ]\n",
        "\n",
        "    cat_attr = [\n",
        "        # appearance\n",
        "        #'ht_feet',  # SUSPECT'S HEIGHT (FEET)       C\n",
        "        'race',     # SUSPECT'S RACE                C\n",
        "        'sex',      # SUSPECT'S SEX                 C\n",
        "        'build',    # SUSPECT'S BUILD               C\n",
        "        # environment\n",
        "        'inout',    # WAS STOP INSIDE OR OUTSIDE?   C\n",
        "        'trhsloc',  # WAS LOCATION HOUSING OR TRANSIT AUTHORITY? C\n",
        "    ]\n",
        "\n",
        "    yes_no_behavior_attribs = [\n",
        "        'ac_evasv', # EVASIVE RESPONSE TO QUESTIONING\n",
        "        'ac_assoc', # ASSOCIATING WITH KNOWN CRIMINALS\n",
        "        'cs_lkout', # SUSPECT ACTING AS A LOOKOUT\n",
        "        'cs_drgtr', # ACTIONS INDICATIVE OF A DRUG TRANSACTION\n",
        "        'cs_casng', # CASING A VICTIM OR LOCATION\n",
        "        'cs_vcrim', # VIOLENT CRIME SUSPECTED\n",
        "        'ac_cgdir', # CHANGE DIRECTION AT SIGHT OF OFFICER\n",
        "        'cs_furtv', # FURTIVE MOVEMENTS\n",
        "        'ac_stsnd', # SIGHTS OR SOUNDS OF CRIMINAL ACTIVITY\n",
        "    ]\n",
        "\n",
        "    yes_no_environment_attribs = [\n",
        "        'ac_proxm',  # PROXIMITY TO SCENE OF OFFENSE\n",
        "        'cs_other',  # OTHER\n",
        "        'ac_rept',   # REPORT BY VICTIM / WITNESS / OFFICER\n",
        "        'ac_inves',  # ONGOING INVESTIGATION\n",
        "        'ac_incid',  # AREA HAS HIGH CRIME INCIDENCE\n",
        "        'ac_time',   # TIME OF DAY FITS CRIME INCIDENCE\n",
        "    ]\n",
        "\n",
        "    yes_no_appearance_attribs = [\n",
        "        'cs_cloth', # WEARING CLOTHES COMMONLY USED IN A CRIME\n",
        "        'cs_objcs', # CARRYING SUSPICIOUS OBJECT\n",
        "        'cs_bulge', # SUSPICIOUS BULGE\n",
        "        'cs_descr', # FITS A RELEVANT DESCRIPTION\n",
        "        'rf_attir', # INAPPROPRIATE ATTIRE FOR SEASON\n",
        "    ]\n",
        "\n",
        "    yes_no_frisk_attribs = [\n",
        "        'rf_othsw', # OTHER SUSPICION OF WEAPONS    \n",
        "        'rf_knowl', # KNOWLEDGE OF SUSPECTS PRIOR CRIMINAL BEHAVIOR\n",
        "        'rf_vcact', # ACTIONS OF ENGAGING IN A VIOLENT CRIME\n",
        "        'rf_verbl', # VERBAL THREATS BY SUSPECT    \n",
        "    ]\n",
        "\n",
        "    yes_no_target_attribs = [\n",
        "        'arstmade', # WAS AN ARREST MADE?\n",
        "        'frisked',  # WAS SUSPECT FRISKED?\n",
        "        'sumissue'  # WAS A SUMMONS ISSUED?\n",
        "    ]\n",
        "\n",
        "    bin_attr = np.concatenate((yes_no_behavior_attribs,yes_no_environment_attribs,yes_no_appearance_attribs,yes_no_frisk_attribs,yes_no_target_attribs))\n",
        "\n",
        "    for attrib in bin_attr:\n",
        "        raw_sqf16[attrib] = raw_sqf16[attrib].map(dict(Y=1, N=0)).apply(np.uint8)\n",
        "\n",
        "    raw_sqf16['timestop'] = raw_sqf16['timestop'].apply(str).apply('{:0>4}'.format)\n",
        "    raw_sqf16['timestop_hour'] = raw_sqf16.timestop.apply(lambda x: datetime.strptime(x,'%H%M').hour)\n",
        "    raw_sqf16['timestop_minute'] = raw_sqf16.timestop.apply(lambda x: datetime.strptime(x,'%H%M').minute)\n",
        "    raw_sqf16.drop('timestop',axis=1,inplace=True)\n",
        "\n",
        "\n",
        "    for attrib in numeric_attr:\n",
        "      raw_sqf16[attrib] = pd.to_numeric(raw_sqf16[attrib],errors='coerce')\n",
        "\n",
        "    raw_sqf16[numeric_attr] = raw_sqf16[numeric_attr].apply(lambda x: (x-x.min())/(x.max()-x.min()), axis=0)\n",
        "    cat_vector =  np.concatenate((np.repeat(1,len(numeric_attr)+len(bin_attr)),np.max(raw_sqf16[cat_attr].apply(lambda x: x.astype('category')).apply(lambda x: x.cat.codes))+1)) \n",
        "\n",
        "    raw_sqf16 = raw_sqf16[np.concatenate((numeric_attr,bin_attr,cat_attr))]\n",
        "    sqf16_dum = pd.get_dummies(data=raw_sqf16, columns = cat_attr)\n",
        "\n",
        "    sqf16_dum.dropna(inplace=True)\n",
        "\n",
        "    X_train_numpy = sqf16_dum.copy()\n",
        "    sqf16 = tf.convert_to_tensor(sqf16_dum.values,dtype='float32')\n",
        "\n",
        "    X_train_onehot = sqf16\n",
        "    print(X_train_onehot.shape)\n",
        "    return X_train_onehot,X_train_numpy,cat_vector\n",
        "\n",
        "\n",
        "def gen_compas_data():\n",
        "  # Used: https://github.com/propublica/compas-analysis/blob/master/Compas%20Analysis.ipynb\n",
        "  # as base for what is important in that dataset as they do investigation into unfairness\n",
        "\n",
        "  raw_compas = pd.read_csv(\"https://raw.githubusercontent.com/propublica/compas-analysis/master/compas-scores-two-years.csv\")\n",
        "\n",
        "  cmp = raw_compas[['age', 'c_charge_degree', 'race', 'age_cat', 'score_text', 'sex', 'priors_count', 'days_b_screening_arrest', 'decile_score', 'is_recid', 'two_year_recid', 'c_jail_in', 'c_jail_out']]\n",
        "  cmp = cmp.query('days_b_screening_arrest <= 30 and days_b_screening_arrest >= -30 and is_recid != -1 and c_charge_degree != \"O\" and score_text != \"N/A\"')\n",
        "  cmp = cmp.reset_index(drop=True)\n",
        "\n",
        "\n",
        "  # editing such that this will work for gan\n",
        "  # age_cat and score_text can be derived from other variables and are therefore removed\n",
        "  tmp = pd.Series(delta.total_seconds()/3600 for delta in (pd.to_datetime(cmp.c_jail_out)-pd.to_datetime(cmp.c_jail_in)))\n",
        "  cmp['length_of_stay'] = tmp\n",
        "  cmp = cmp.drop(['c_jail_out','c_jail_in','age_cat','score_text'],axis=1)\n",
        "\n",
        "  # Prepare categorical columns\n",
        "  cat_cols = ['c_charge_degree','race','sex','is_recid','two_year_recid']\n",
        "\n",
        "  # Generate vector for number of outputs for softmax\n",
        "  cat_vector = generate_gen_out_vec(cmp,cat_cols)\n",
        "\n",
        "  # Create dummy variables\n",
        "  cmp_dum = pd.get_dummies(data=cmp, columns = cat_cols)\n",
        "\n",
        "  # Rescale numeric columns\n",
        "  num_cols = len(cmp.columns)-len(cat_cols)\n",
        "  cmp_dum.iloc[:,:num_cols] = cmp_dum.iloc[:,:num_cols].apply(lambda x: (x-x.min())/(x.max()-x.min()), axis=0) #1,0\n",
        "\n",
        "  X_train_numpy = cmp_dum.copy()\n",
        "  cmp_dum = tf.convert_to_tensor(cmp_dum.values,dtype='float32')\n",
        "\n",
        "  X_train_onehot = cmp_dum\n",
        "  print(X_train_onehot.shape)\n",
        "  return X_train_onehot,X_train_numpy,cat_vector\n",
        "\n",
        "\n",
        "# https://archive.ics.uci.edu/ml/datasets/statlog+(german+credit+data)\n",
        "\n",
        "def gen_schufa_data():\n",
        "  raw_schufa = pd.read_csv(\"https://archive.ics.uci.edu/ml/machine-learning-databases/statlog/german/german.data\",sep=' ',header=None)\n",
        "  \n",
        "  # Prepare categorical columns\n",
        "  cat_cols = [0,2,3,5,6,8,9,11,13,14,16,18,19,20]\n",
        "\n",
        "  # Generate vector for number of outputs for softmax\n",
        "  cat_vector = generate_gen_out_vec(raw_schufa,cat_cols)\n",
        "\n",
        "  # Create dummy variables\n",
        "  schufa_dum = pd.get_dummies(data=raw_schufa, columns = cat_cols)\n",
        "\n",
        "  # Rescale numeric columns\n",
        "  num_cols = len(raw_schufa.columns)-len(cat_cols)\n",
        "\n",
        "  schufa_dum.iloc[:,:num_cols] = schufa_dum.iloc[:,:num_cols].apply(lambda x: (x-x.min())/(x.max()-x.min()), axis=0) #1,0\n",
        "\n",
        "  X_train_numpy = schufa_dum.copy()\n",
        "  schufa_dum = tf.convert_to_tensor(schufa_dum.values,dtype='float32')\n",
        "\n",
        "  X_train_onehot = schufa_dum\n",
        "  print(X_train_onehot.shape)\n",
        "  return X_train_onehot,X_train_numpy,cat_vector\n",
        "\n",
        "def gen_chile_data():\n",
        "  # this of course only works, if you would have access to my gdrive... \n",
        "  raw_chile = pd.read_csv('/content/drive/My Drive/unfairgan/chile dataset/ADMISION2017_Refractored_replaced.csv',sep=\";\")\n",
        "  \n",
        "  # Prepare categorical columns\n",
        "  cat_cols = ['Nationality [P008]',\n",
        "              'Gender [P009]',\n",
        "              'Civil status [P019]',\n",
        "              'Income decile [P034]',\n",
        "              'Education of father [P037]',\n",
        "              'Education of mother [P038]',\n",
        "              'Occupational status of father [P039]',\n",
        "              'Occupational status of mother [P040]',\n",
        "              'Main occupation of father [P043]',\n",
        "              'Main occupation of mother [P044]',\n",
        "              'Region [P056]',\n",
        "              'Type of high school [P077]']\n",
        "\n",
        "  # Generate vector for number of outputs for softmax\n",
        "  cat_vector = generate_gen_out_vec(raw_chile,cat_cols)\n",
        "\n",
        "  # Create dummy variables\n",
        "  chile_dum = pd.get_dummies(data=raw_chile, columns = cat_cols)\n",
        "\n",
        "  # Rescale numeric columns\n",
        "  num_cols = len(raw_chile.columns)-len(cat_cols)\n",
        "\n",
        "  chile_dum.iloc[:,:num_cols] = chile_dum.iloc[:,:num_cols].apply(lambda x: (x-x.min())/(x.max()-x.min()), axis=0) #1,0\n",
        "\n",
        "  X_train_numpy = chile_dum.copy()\n",
        "  chile_dum = tf.convert_to_tensor(chile_dum.values,dtype='float32')\n",
        "\n",
        "  X_train_onehot = chile_dum\n",
        "  print(X_train_onehot.shape)\n",
        "  return X_train_onehot,X_train_numpy,cat_vector\n",
        "\n",
        "\n"
      ],
      "execution_count": 0,
      "outputs": []
    },
    {
      "metadata": {
        "id": "VD4cmGJR5G91",
        "colab_type": "code",
        "outputId": "87009a7d-b64d-47e8-861b-9b089b4d9046",
        "colab": {
          "base_uri": "https://localhost:8080/",
          "height": 34
        }
      },
      "cell_type": "code",
      "source": [
        "dataset_name = 'schufa'\n",
        "\n",
        "datasets = {'sqf':gen_sqf16_data,\n",
        "            'cmp':gen_compas_data,\n",
        "            'schufa':gen_schufa_data,\n",
        "            'chile':gen_chile_data}\n",
        "\n",
        "MODEL_DIR = 'gs://unfairgan/model_dir/' + dataset_name\n",
        "\n",
        "X_train_onehot,X_train_numpy,cat_vector = datasets[dataset_name]()"
      ],
      "execution_count": 4,
      "outputs": [
        {
          "output_type": "stream",
          "text": [
            "(1000, 63)\n"
          ],
          "name": "stdout"
        }
      ]
    },
    {
      "metadata": {
        "id": "0fLpPRFe638z",
        "colab_type": "code",
        "colab": {}
      },
      "cell_type": "code",
      "source": [
        "# clear bucket to reset model\n",
        "if(dataset_name=='sqf'):\n",
        "  !gsutil -m rm gs://unfairgan/model_dir/sqf/**\n",
        "elif(dataset_name=='cmp'):\n",
        "  !gsutil -m rm gs://unfairgan/model_dir/cmp/**\n",
        "elif(dataset_name=='schufa'):\n",
        "  !gsutil -m rm gs://unfairgan/model_dir/schufa/**\n",
        "elif(dataset_name=='chile'):\n",
        "  !gsutil -m rm gs://unfairgan/model_dir/chile/**\n",
        "else:\n",
        "  !gsutil -m rm gs://unfairgan/model_dir/**"
      ],
      "execution_count": 0,
      "outputs": []
    },
    {
      "metadata": {
        "id": "M2MVBI5i0Ub-",
        "colab_type": "text"
      },
      "cell_type": "markdown",
      "source": [
        "### model"
      ]
    },
    {
      "metadata": {
        "id": "kEHd35hJGKob",
        "colab_type": "code",
        "outputId": "d8c9a4f2-11d2-4190-a3cd-7380eb26a6a8",
        "colab": {
          "base_uri": "https://localhost:8080/",
          "height": 394
        }
      },
      "cell_type": "code",
      "source": [
        "print_corr = False\n",
        "# Hyperparameter Definition\n",
        "\n",
        "batch_size = 128 # 128 yielded pretty good results\n",
        "noise_dim = 256\n",
        "\n",
        "iterations = 100000\n",
        "learning_rate = 1e-3\n",
        "\n",
        "#wgan div\n",
        "p = 3 \n",
        "k = 2\n",
        "\n",
        "# Model Definition\n",
        "\n",
        "def LeakyReLU(x, alpha=0.2):\n",
        "  return tf.maximum(alpha * x, x)\n",
        "\n",
        "def generator(x,training=True):\n",
        "  with tf.variable_scope('Generator',reuse=tf.AUTO_REUSE):\n",
        "    x = tf.layers.dense(x,noise_dim,activation=LeakyReLU)\n",
        "    x = tf.layers.batch_normalization(x,momentum=0.99)\n",
        "    x = tf.layers.dense(x,512,activation=LeakyReLU)\n",
        "    x = tf.layers.batch_normalization(x,momentum=0.99)\n",
        "    x = tf.layers.dense(x,384,activation=LeakyReLU)\n",
        "    x = tf.layers.batch_normalization(x,momentum=0.99)\n",
        "    x = tf.layers.dense(x,384,activation=LeakyReLU)\n",
        "    x = tf.layers.batch_normalization(x,momentum=0.99)\n",
        "    out = []\n",
        "    for i in cat_vector:\n",
        "      if(i>1):\n",
        "        out.append(tf.layers.dense(x,i,activation=tf.contrib.sparsemax.sparsemax))#tf.nn.softmax)) # sparsemax: http://proceedings.mlr.press/v48/martins16.pdf\n",
        "      else:\n",
        "        out.append(tf.layers.dense(x,1,activation=tf.nn.sigmoid))\n",
        "    x = tf.layers.flatten(tf.concat(out,1))\n",
        "    return x\n",
        "  \n",
        "def discriminator(x,training=True):\n",
        "  with tf.variable_scope('Discriminator',reuse=tf.AUTO_REUSE):\n",
        "    x = tf.layers.dense(x,noise_dim,activation=LeakyReLU)\n",
        "    x = tf.layers.dropout(x,0.2)\n",
        "    x = tf.layers.dense(x,512,activation=LeakyReLU)\n",
        "    x = tf.layers.dropout(x,0.2)\n",
        "    x = tf.layers.dense(x,384,activation=LeakyReLU)\n",
        "    x = tf.layers.dropout(x,0.2)\n",
        "    x = tf.layers.dense(x,128,activation=LeakyReLU)\n",
        "    x = tf.layers.dropout(x,0.2)\n",
        "    x = tf.layers.dense(x,1)\n",
        "    return x\n",
        "\n",
        "# Yoinked from colab notebook above, to create a data generator class\n",
        "\n",
        "def generate_input_fn(is_training,df):\n",
        "    \"\"\"Creates input_fn depending on whether the code is training or not.\"\"\"\n",
        "    return InputFunction(is_training,df)\n",
        "\n",
        "class InputFunction(object):\n",
        "    \"\"\"Wrapper class that is passed as callable to Estimator.\"\"\"\n",
        "\n",
        "    def __init__(self, is_training,df):\n",
        "        self.is_training = is_training\n",
        "        self.df = df\n",
        "\n",
        "    def __call__(self, params):\n",
        "        \n",
        "        data = tf.data.Dataset.from_tensor_slices(self.df)\n",
        "        data = data.apply(tf.data.experimental.shuffle_and_repeat(buffer_size=self.df.shape[0]))\n",
        "        \n",
        "        data = data.batch(batch_size, drop_remainder=True)\n",
        "        data = data.prefetch(2)\n",
        "        samples = data.make_one_shot_iterator().get_next()\n",
        "        #samples.set_shape([batch_size, 2])\n",
        "        random_noise = tf.random_normal([batch_size, noise_dim])\n",
        "\n",
        "        features = {\n",
        "            'real': samples,\n",
        "            'random_noise': random_noise}\n",
        "        return features\n",
        "\n",
        "def test_noise_input_fn(params):\n",
        "    np.random.seed(0)\n",
        "    noise_dataset = tf.data.Dataset.from_tensors(tf.constant(np.random.randn(params['batch_size'], noise_dim), dtype=tf.float32))\n",
        "    noise = noise_dataset.make_one_shot_iterator().get_next()\n",
        "    return {'random_noise': noise}, None\n",
        "\n",
        "def model_fn(features, mode, params):\n",
        "  if mode == tf.estimator.ModeKeys.PREDICT:\n",
        "    random_noise = features['random_noise']\n",
        "    predictions = {'generated_samples': generator(random_noise,training=False)}\n",
        "    return tf.contrib.tpu.TPUEstimatorSpec(mode=mode,predictions=predictions)\n",
        "\n",
        "  real_data = features['real']\n",
        "  random_noise = features['random_noise']\n",
        "  \n",
        "  training = (mode == tf.estimator.ModeKeys.TRAIN)\n",
        "  fake_data = generator(random_noise,training=training)\n",
        "\n",
        "  disc_real = discriminator(real_data)\n",
        "  disc_fake = discriminator(fake_data)\n",
        "\n",
        "  gen_cost = tf.reduce_mean(disc_fake)\n",
        "  disc_cost = tf.reduce_mean(disc_real) - tf.reduce_mean(disc_fake)\n",
        "  \n",
        "  epsilon = tf.random_uniform(shape=[random_noise.get_shape().as_list()[0],1],minval=0.,maxval=1.)\n",
        "\n",
        "  differences = fake_data - real_data\n",
        "  interpolates = real_data + (epsilon*differences)\n",
        "  gradients = tf.gradients(discriminator(interpolates),[interpolates])[0]\n",
        "  slopes = tf.pow(tf.reduce_sum(tf.square(gradients),reduction_indices=[1]),p)\n",
        "  gradient_penalty = tf.reduce_mean(slopes)\n",
        "  disc_cost += k*gradient_penalty\n",
        "\n",
        "  if mode == tf.estimator.ModeKeys.TRAIN:\n",
        "    gen_train_opt = tf.train.AdamOptimizer(learning_rate=learning_rate, beta1=0., beta2=0.9,epsilon=0.1)\n",
        "    disc_train_opt = tf.train.AdamOptimizer(learning_rate=learning_rate, beta1=0., beta2=0.9,epsilon=0.1)\n",
        "\n",
        "    g_tpu_opt = tf.contrib.tpu.CrossShardOptimizer(gen_train_opt)\n",
        "    d_tpu_opt = tf.contrib.tpu.CrossShardOptimizer(disc_train_opt)\n",
        "\n",
        "  # update op for batch_norm layer # i dont remember what it thought here :)\n",
        "\n",
        "    update_ops = tf.get_collection(tf.GraphKeys.UPDATE_OPS)\n",
        "    with tf.control_dependencies(update_ops):\n",
        "      d_step = d_tpu_opt.minimize(disc_cost, var_list=tf.get_collection(tf.GraphKeys.GLOBAL_VARIABLES, scope='Discriminator'))\n",
        "      g_step = g_tpu_opt.minimize(gen_cost, var_list=tf.get_collection(tf.GraphKeys.GLOBAL_VARIABLES, scope='Generator'))\n",
        "\n",
        "      increment_step = tf.assign_add(tf.train.get_or_create_global_step(), 1)\n",
        "      joint_op = tf.group([d_step, g_step, increment_step])\n",
        "      return tf.contrib.tpu.TPUEstimatorSpec(mode=mode, loss=gen_cost, train_op=joint_op)\n",
        "\n",
        "  elif mode == tf.estimator.ModeKeys.EVAL:\n",
        "    def _eval_metric_fn(disc_cost,gen_cost):\n",
        "      return {'discriminator_loss': tf.metrics.mean(disc_cost),'generator_loss': tf.metrics.mean(gen_cost)}\n",
        "    return tf.contrib.tpu.TPUEstimatorSpec(mode=mode, loss=tf.reduce_mean(gen_cost), eval_metrics=(_eval_metric_fn, [disc_cost, gen_cost]))\n",
        "  \n",
        "def sample_from_prob(samples):\n",
        "  # get point where values change to find first categorical column:\n",
        "  idx = np.where(cat_vector[:-1] != cat_vector[1:])[0][0]+1\n",
        "  cat_vec_short = cat_vector[idx:]\n",
        "  # loop over all categorical variables and sample from distributions\n",
        "  for i in cat_vec_short:\n",
        "    tmp = [np.random.choice(i,size=1,p=(j/np.sum(j)))[0] for j in samples.values[:,idx:i+idx]]\n",
        "    dummy = np.zeros([len(tmp),i])\n",
        "    dummy[np.arange(len(tmp)),tmp] = 1\n",
        "    samples.values[:,idx:idx+i] = dummy\n",
        "    idx += i\n",
        "  return samples\n",
        "\n",
        "\n",
        "\n",
        "# This is an attempt, where i decided to rescale the output of softmax, such that probabilities are never 0.\n",
        "# def perturb_prob(x,epsilon):\n",
        "#   z = ((np.max(x)-epsilon)-(np.min(x)+epsilon)) / (np.max(x)-np.min(x))*(x-np.max(x))+(np.max(x)-epsilon)\n",
        "#   res = (z/np.sum(z))\n",
        "#   return res\n",
        "\n",
        "# def sample_from_prob_withperturb(samples):\n",
        "#   # get point where values change to find first categorical column:\n",
        "#   idx = np.where(cat_vector[:-1] != cat_vector[1:])[0][0]+1\n",
        "#   cat_vec_short = cat_vector[idx:]\n",
        "#   # loop over all categorical variables and sample from distributions\n",
        "#   for i in cat_vec_short:\n",
        "#     tmp = [np.random.choice(i,size=1,p=perturb_prob(j,0.005)) for j in samples.values[:,idx:i+idx]]\n",
        "#     tmp = np.squeeze(tmp)\n",
        "#     dummy = np.zeros([len(tmp),i])\n",
        "#     dummy[np.arange(len(tmp)),tmp] = 1\n",
        "#     samples.values[:,idx:idx+i] = dummy\n",
        "#     idx += i\n",
        "#   return samples\n",
        "\n",
        "\n",
        " \n",
        "\n",
        "def store_results(samples,orig):\n",
        "  samples = pd.DataFrame([s['generated_samples'][:] for s in samples])\n",
        "  samples.columns = orig.columns\n",
        "  #create directory\n",
        "  work_dir = os.path.join(os.getcwd(), 'drive/My Drive/unfairgan/'+dataset_name)\n",
        "  os.makedirs(work_dir, exist_ok=True)\n",
        "  #create filename\n",
        "  filename = datetime.now().strftime(\"data-%Y-%m-%d-%H-%M.csv\")\n",
        "  samples.to_csv(os.path.join(work_dir,filename))\n",
        "  return samples\n",
        "  \n",
        "tf.set_random_seed(1234)\n",
        "tf.logging.set_verbosity(0) # alternative: tf.logging.INFO\n",
        "config = tf.contrib.tpu.RunConfig(cluster=tf.contrib.cluster_resolver.TPUClusterResolver(TPU_ADDRESS),\n",
        "                                  #save_checkpoints_secs=None,\n",
        "                                  save_checkpoints_steps=10000,\n",
        "                                  save_summary_steps=None,\n",
        "                                  model_dir=MODEL_DIR,\n",
        "                                  tpu_config=tf.contrib.tpu.TPUConfig(iterations_per_loop=100)\n",
        "                                 )\n",
        "\n",
        "# I yoinked this part from the first colab notebook in above citations, i'm assuming\n",
        "# we use the cpu to predict so that we are actually on this machine to predict\n",
        "\n",
        "# TPU-based estimator used for TRAIN and EVAL\n",
        "est = tf.contrib.tpu.TPUEstimator(\n",
        "        model_fn=model_fn,\n",
        "        config=config,\n",
        "        train_batch_size=batch_size,\n",
        "        eval_batch_size=batch_size)\n",
        "\n",
        "# CPU-based estimator used for PREDICT (generating images)\n",
        "cpu_est = tf.contrib.tpu.TPUEstimator(\n",
        "        model_fn=model_fn,\n",
        "        use_tpu=False,\n",
        "        config=config,\n",
        "        predict_batch_size=X_train_numpy.shape[0]) # predict dataset with same size???\n",
        "\n",
        "current_step = 0\n",
        "\n",
        "steps_per_eval = 1000\n",
        "\n",
        "start_time = time.time()\n",
        "\n",
        "print('Starting training process ...')\n",
        "est.train(input_fn=generate_input_fn(True,X_train_onehot),max_steps=iterations)\n",
        "print('generating new dataset ...')\n",
        "pred_res = store_results(cpu_est.predict(input_fn=test_noise_input_fn),X_train_numpy)\n",
        "print(\"Total runtime: %d seconds\" %(time.time()-start_time))\n",
        "pred_res_sampled = sample_from_prob(pred_res.copy())\n",
        "if(print_corr):\n",
        "  print('generating correlation matrix ...')\n",
        "  generate_heatmap(pred_res_sampled,annot=False,output=False)"
      ],
      "execution_count": 5,
      "outputs": [
        {
          "output_type": "stream",
          "text": [
            "WARNING:tensorflow:Estimator's model_fn (<function model_fn at 0x7fee1dbfe598>) includes params argument, but params are not passed to Estimator.\n",
            "WARNING:tensorflow:Estimator's model_fn (<function model_fn at 0x7fee1dbfe598>) includes params argument, but params are not passed to Estimator.\n",
            "WARNING:tensorflow:eval_on_tpu ignored because use_tpu is False.\n",
            "Starting training process ...\n",
            "generating new dataset ...\n",
            "WARNING:tensorflow:From /usr/local/lib/python3.6/dist-packages/tensorflow/python/ops/resource_variable_ops.py:435: colocate_with (from tensorflow.python.framework.ops) is deprecated and will be removed in a future version.\n",
            "Instructions for updating:\n",
            "Colocations handled automatically by placer.\n",
            "WARNING:tensorflow:From <ipython-input-5-37edbf432984>:21: dense (from tensorflow.python.layers.core) is deprecated and will be removed in a future version.\n",
            "Instructions for updating:\n",
            "Use keras.layers.dense instead.\n",
            "WARNING:tensorflow:From <ipython-input-5-37edbf432984>:22: batch_normalization (from tensorflow.python.layers.normalization) is deprecated and will be removed in a future version.\n",
            "Instructions for updating:\n",
            "Use keras.layers.batch_normalization instead.\n",
            "WARNING:tensorflow:From <ipython-input-5-37edbf432984>:35: flatten (from tensorflow.python.layers.core) is deprecated and will be removed in a future version.\n",
            "Instructions for updating:\n",
            "Use keras.layers.flatten instead.\n",
            "WARNING:tensorflow:From /usr/local/lib/python3.6/dist-packages/tensorflow/python/training/saver.py:1266: checkpoint_exists (from tensorflow.python.training.checkpoint_management) is deprecated and will be removed in a future version.\n",
            "Instructions for updating:\n",
            "Use standard file APIs to check for files with this prefix.\n",
            "Total runtime: 8 seconds\n"
          ],
          "name": "stdout"
        }
      ]
    },
    {
      "metadata": {
        "id": "zv3vTTtA_Ozh",
        "colab_type": "text"
      },
      "cell_type": "markdown",
      "source": [
        "### Generated set evaluation"
      ]
    },
    {
      "metadata": {
        "id": "0KrBy1ZoXwmD",
        "colab_type": "code",
        "outputId": "936300a4-afd6-4776-f457-5f25e7cfe4cd",
        "colab": {
          "base_uri": "https://localhost:8080/",
          "height": 34
        }
      },
      "cell_type": "code",
      "source": [
        "eval_orig = X_train_numpy.copy()\n",
        "eval_gen = pred_res_sampled.copy()\n",
        "eval_gen_unsampled = pred_res.copy()\n",
        "\n",
        "idx = 0\n",
        "drop_cols = []\n",
        "for i in cat_vector:\n",
        "  if i>1:\n",
        "    drop_cols.append(idx)\n",
        "    idx += i\n",
        "  else:\n",
        "    idx +=1\n",
        "\n",
        "print(drop_cols)\n",
        "eval_orig.drop(eval_orig.columns[drop_cols],axis=1,inplace=True)\n",
        "eval_gen.drop(eval_gen.columns[drop_cols],axis=1,inplace=True)\n",
        "\n",
        "### also include the unsampled dataset if we need it\n",
        "eval_gen_unsampled.drop(eval_gen_unsampled.columns[drop_cols],axis=1,inplace=True)\n"
      ],
      "execution_count": 6,
      "outputs": [
        {
          "output_type": "stream",
          "text": [
            "[7, 11, 16, 26, 31, 36, 40, 43, 47, 50, 53, 57, 59, 61]\n"
          ],
          "name": "stdout"
        }
      ]
    },
    {
      "metadata": {
        "id": "7kYOVMesp9-7",
        "colab_type": "code",
        "colab": {}
      },
      "cell_type": "code",
      "source": [
        "from sklearn.metrics import roc_curve\n",
        "from statsmodels.stats import proportion\n",
        "import pylab\n",
        "\n",
        "def apply_threshold(i,data):\n",
        "  return [1 if x>i else 0 for x in data]\n",
        "\n",
        "def plot_por_vs_thresholds(data_1,data_2,thresholds_1,thresholds_2):\n",
        "  #plt.plot([np.mean(apply_threshold(i,schufa_regr_2[gen_schufa_female,1])) for i in threshold_gen_f],np.clip(threshold_gen_f,0,1))\n",
        "  plt.plot([np.mean(apply_threshold(i,data_1)) for i in thresholds_1],np.clip(thresholds_1,0,1))\n",
        "  plt.plot([np.mean(apply_threshold(j,data_2)) for j in thresholds_2],np.clip(thresholds_2,0,1))\n",
        "  plt.show()\n",
        "  \n",
        "# took the idea for this plot from: https://fairmlbook.org/code/adult.html\n",
        "\n",
        "def score_range(p,q,y_true,y_score):\n",
        "  df = np.column_stack([y_score,y_true])\n",
        "  lq = df[np.logical_and(p<df[:,0],df[:,0]<=q)]\n",
        "  return sum(lq[:,1]),lq.shape[0]\n",
        "  \n",
        "def get_frequencies(y_true,y_score,num_buckets):\n",
        "  ts = np.linspace(0,1,num_buckets+1)\n",
        "  n_succs=[]\n",
        "  n_obs = []\n",
        "  \n",
        "  for i in range(num_buckets):\n",
        "    s,l = score_range(ts[i],ts[i+1],y_true,y_score)\n",
        "    n_succs.append(s)\n",
        "    n_obs.append(l)\n",
        "    \n",
        "  return n_succs,n_obs\n",
        "\n",
        "def plot_confidence(deciles,y_true,y_score,num_buckets,confidence=.95):\n",
        "  n_succs, n_obs = get_frequencies(y_true,y_score,num_buckets)\n",
        "  n_succs, n_obs = np.array(n_succs), np.array(n_obs)\n",
        "  conf_lbs, conf_ubs = proportion.proportion_confint(n_succs.astype(int), n_obs.astype(int), alpha=1-confidence)\n",
        "  pylab.fill_between(deciles, conf_ubs, conf_lbs, alpha=.2)\n",
        "  pylab.plot(deciles, n_succs / n_obs)\n",
        "  "
      ],
      "execution_count": 0,
      "outputs": []
    },
    {
      "metadata": {
        "id": "10oG9DBjUbp4",
        "colab_type": "text"
      },
      "cell_type": "markdown",
      "source": [
        "### Chile eval"
      ]
    },
    {
      "metadata": {
        "id": "GDiclyTWJeU5",
        "colab_type": "code",
        "outputId": "b2da1a9c-c1a5-46af-b7f8-84c082b153c6",
        "colab": {
          "base_uri": "https://localhost:8080/",
          "height": 34
        }
      },
      "cell_type": "code",
      "source": [
        "#cat_vector\n",
        "chile_indep = eval_orig.columns.tolist()\n",
        "chile_dep = ['Language test score [P085]', 'Math test score [P086]']\n",
        "[chile_indep.remove(i) for i in chile_dep]\n",
        "tmp = np.sum(eval_gen[chile_indep]) > 0\n",
        "chile_indep = tmp.index[tmp]"
      ],
      "execution_count": 0,
      "outputs": [
        {
          "output_type": "execute_result",
          "data": {
            "text/plain": [
              "[None, None]"
            ]
          },
          "metadata": {
            "tags": []
          },
          "execution_count": 6
        }
      ]
    },
    {
      "metadata": {
        "id": "RhXMmy86Mqaq",
        "colab_type": "code",
        "outputId": "eb2848b1-b1a0-44e9-ed9b-9e166d21f7d2",
        "colab": {
          "base_uri": "https://localhost:8080/",
          "height": 1969
        }
      },
      "cell_type": "code",
      "source": [
        "#simpleLogit_comparison(X_train_numpy[chile_indep],X_train_numpy[chile_dep[0]],pred_res_sampled[chile_indep],pred_res_sampled[chile_dep[0]])\n",
        "comp,regr_1,regr_2 = simpleReg_comparison(eval_orig[chile_indep],eval_orig[chile_dep[1]],eval_gen[chile_indep],eval_gen[chile_dep[1]])\n",
        "comp\n",
        "#chile_indep"
      ],
      "execution_count": 0,
      "outputs": [
        {
          "output_type": "execute_result",
          "data": {
            "text/html": [
              "<div>\n",
              "<style scoped>\n",
              "    .dataframe tbody tr th:only-of-type {\n",
              "        vertical-align: middle;\n",
              "    }\n",
              "\n",
              "    .dataframe tbody tr th {\n",
              "        vertical-align: top;\n",
              "    }\n",
              "\n",
              "    .dataframe thead th {\n",
              "        text-align: right;\n",
              "    }\n",
              "</style>\n",
              "<table border=\"1\" class=\"dataframe\">\n",
              "  <thead>\n",
              "    <tr style=\"text-align: right;\">\n",
              "      <th></th>\n",
              "      <th>0</th>\n",
              "      <th>1</th>\n",
              "    </tr>\n",
              "  </thead>\n",
              "  <tbody>\n",
              "    <tr>\n",
              "      <th>High School Code [P012]</th>\n",
              "      <td>-0.124795</td>\n",
              "      <td>-0.258945</td>\n",
              "    </tr>\n",
              "    <tr>\n",
              "      <th>Year of Birth [P018]</th>\n",
              "      <td>0.194240</td>\n",
              "      <td>-0.072636</td>\n",
              "    </tr>\n",
              "    <tr>\n",
              "      <th>Nationality [P008]_2</th>\n",
              "      <td>0.009337</td>\n",
              "      <td>-0.007341</td>\n",
              "    </tr>\n",
              "    <tr>\n",
              "      <th>Gender [P009]_2</th>\n",
              "      <td>0.016906</td>\n",
              "      <td>0.021973</td>\n",
              "    </tr>\n",
              "    <tr>\n",
              "      <th>Civil status [P019]_2</th>\n",
              "      <td>-0.014433</td>\n",
              "      <td>-0.047019</td>\n",
              "    </tr>\n",
              "    <tr>\n",
              "      <th>Civil status [P019]_3</th>\n",
              "      <td>-0.000507</td>\n",
              "      <td>-0.018774</td>\n",
              "    </tr>\n",
              "    <tr>\n",
              "      <th>Civil status [P019]_4</th>\n",
              "      <td>-0.018667</td>\n",
              "      <td>0.088447</td>\n",
              "    </tr>\n",
              "    <tr>\n",
              "      <th>Income decile [P034]_2</th>\n",
              "      <td>0.005986</td>\n",
              "      <td>0.000423</td>\n",
              "    </tr>\n",
              "    <tr>\n",
              "      <th>Income decile [P034]_3</th>\n",
              "      <td>0.011921</td>\n",
              "      <td>-0.003186</td>\n",
              "    </tr>\n",
              "    <tr>\n",
              "      <th>Income decile [P034]_4</th>\n",
              "      <td>0.019996</td>\n",
              "      <td>-0.000851</td>\n",
              "    </tr>\n",
              "    <tr>\n",
              "      <th>Income decile [P034]_5</th>\n",
              "      <td>0.024601</td>\n",
              "      <td>0.022336</td>\n",
              "    </tr>\n",
              "    <tr>\n",
              "      <th>Income decile [P034]_6</th>\n",
              "      <td>0.029701</td>\n",
              "      <td>0.019583</td>\n",
              "    </tr>\n",
              "    <tr>\n",
              "      <th>Income decile [P034]_7</th>\n",
              "      <td>0.040275</td>\n",
              "      <td>0.035750</td>\n",
              "    </tr>\n",
              "    <tr>\n",
              "      <th>Income decile [P034]_8</th>\n",
              "      <td>0.049692</td>\n",
              "      <td>0.051895</td>\n",
              "    </tr>\n",
              "    <tr>\n",
              "      <th>Income decile [P034]_9</th>\n",
              "      <td>0.067123</td>\n",
              "      <td>0.057983</td>\n",
              "    </tr>\n",
              "    <tr>\n",
              "      <th>Income decile [P034]_10</th>\n",
              "      <td>0.099601</td>\n",
              "      <td>0.084343</td>\n",
              "    </tr>\n",
              "    <tr>\n",
              "      <th>Education of father [P037]_1</th>\n",
              "      <td>-0.032331</td>\n",
              "      <td>-0.016241</td>\n",
              "    </tr>\n",
              "    <tr>\n",
              "      <th>Education of father [P037]_2</th>\n",
              "      <td>-0.023300</td>\n",
              "      <td>0.007594</td>\n",
              "    </tr>\n",
              "    <tr>\n",
              "      <th>Education of father [P037]_3</th>\n",
              "      <td>-0.017811</td>\n",
              "      <td>0.007493</td>\n",
              "    </tr>\n",
              "    <tr>\n",
              "      <th>Education of father [P037]_4</th>\n",
              "      <td>-0.016926</td>\n",
              "      <td>0.007458</td>\n",
              "    </tr>\n",
              "    <tr>\n",
              "      <th>Education of father [P037]_5</th>\n",
              "      <td>-0.006969</td>\n",
              "      <td>0.032026</td>\n",
              "    </tr>\n",
              "    <tr>\n",
              "      <th>Education of father [P037]_6</th>\n",
              "      <td>0.008625</td>\n",
              "      <td>0.033113</td>\n",
              "    </tr>\n",
              "    <tr>\n",
              "      <th>Education of father [P037]_7</th>\n",
              "      <td>0.011878</td>\n",
              "      <td>0.010517</td>\n",
              "    </tr>\n",
              "    <tr>\n",
              "      <th>Education of father [P037]_8</th>\n",
              "      <td>0.002571</td>\n",
              "      <td>-0.005930</td>\n",
              "    </tr>\n",
              "    <tr>\n",
              "      <th>Education of father [P037]_10</th>\n",
              "      <td>0.015955</td>\n",
              "      <td>0.011635</td>\n",
              "    </tr>\n",
              "    <tr>\n",
              "      <th>Education of father [P037]_11</th>\n",
              "      <td>0.024883</td>\n",
              "      <td>0.047106</td>\n",
              "    </tr>\n",
              "    <tr>\n",
              "      <th>Education of father [P037]_12</th>\n",
              "      <td>0.004197</td>\n",
              "      <td>0.015595</td>\n",
              "    </tr>\n",
              "    <tr>\n",
              "      <th>Education of mother [P038]_2</th>\n",
              "      <td>-0.016202</td>\n",
              "      <td>0.019042</td>\n",
              "    </tr>\n",
              "    <tr>\n",
              "      <th>Education of mother [P038]_3</th>\n",
              "      <td>-0.012008</td>\n",
              "      <td>0.007145</td>\n",
              "    </tr>\n",
              "    <tr>\n",
              "      <th>Education of mother [P038]_4</th>\n",
              "      <td>-0.011684</td>\n",
              "      <td>-0.004076</td>\n",
              "    </tr>\n",
              "    <tr>\n",
              "      <th>...</th>\n",
              "      <td>...</td>\n",
              "      <td>...</td>\n",
              "    </tr>\n",
              "    <tr>\n",
              "      <th>Occupational status of mother [P040]_1</th>\n",
              "      <td>0.007296</td>\n",
              "      <td>0.013360</td>\n",
              "    </tr>\n",
              "    <tr>\n",
              "      <th>Occupational status of mother [P040]_3</th>\n",
              "      <td>0.031741</td>\n",
              "      <td>0.057209</td>\n",
              "    </tr>\n",
              "    <tr>\n",
              "      <th>Occupational status of mother [P040]_4</th>\n",
              "      <td>0.007227</td>\n",
              "      <td>0.050585</td>\n",
              "    </tr>\n",
              "    <tr>\n",
              "      <th>Occupational status of mother [P040]_5</th>\n",
              "      <td>0.001922</td>\n",
              "      <td>0.021677</td>\n",
              "    </tr>\n",
              "    <tr>\n",
              "      <th>Occupational status of mother [P040]_6</th>\n",
              "      <td>-0.005801</td>\n",
              "      <td>0.031011</td>\n",
              "    </tr>\n",
              "    <tr>\n",
              "      <th>Main occupation of father [P043]_1</th>\n",
              "      <td>-0.012178</td>\n",
              "      <td>0.014200</td>\n",
              "    </tr>\n",
              "    <tr>\n",
              "      <th>Main occupation of father [P043]_2</th>\n",
              "      <td>-0.010582</td>\n",
              "      <td>0.000239</td>\n",
              "    </tr>\n",
              "    <tr>\n",
              "      <th>Main occupation of father [P043]_3</th>\n",
              "      <td>-0.002014</td>\n",
              "      <td>0.039774</td>\n",
              "    </tr>\n",
              "    <tr>\n",
              "      <th>Main occupation of father [P043]_4</th>\n",
              "      <td>-0.003597</td>\n",
              "      <td>0.002706</td>\n",
              "    </tr>\n",
              "    <tr>\n",
              "      <th>Main occupation of father [P043]_5</th>\n",
              "      <td>-0.015973</td>\n",
              "      <td>-0.048941</td>\n",
              "    </tr>\n",
              "    <tr>\n",
              "      <th>Main occupation of father [P043]_6</th>\n",
              "      <td>-0.008978</td>\n",
              "      <td>-0.018349</td>\n",
              "    </tr>\n",
              "    <tr>\n",
              "      <th>Main occupation of father [P043]_7</th>\n",
              "      <td>0.003676</td>\n",
              "      <td>-0.027580</td>\n",
              "    </tr>\n",
              "    <tr>\n",
              "      <th>Main occupation of father [P043]_8</th>\n",
              "      <td>-0.000830</td>\n",
              "      <td>-0.006151</td>\n",
              "    </tr>\n",
              "    <tr>\n",
              "      <th>Main occupation of father [P043]_10</th>\n",
              "      <td>-0.006399</td>\n",
              "      <td>-0.005242</td>\n",
              "    </tr>\n",
              "    <tr>\n",
              "      <th>Main occupation of father [P043]_11</th>\n",
              "      <td>-0.006231</td>\n",
              "      <td>0.000880</td>\n",
              "    </tr>\n",
              "    <tr>\n",
              "      <th>Main occupation of father [P043]_12</th>\n",
              "      <td>-0.015473</td>\n",
              "      <td>-0.001748</td>\n",
              "    </tr>\n",
              "    <tr>\n",
              "      <th>Main occupation of mother [P044]_1</th>\n",
              "      <td>0.000930</td>\n",
              "      <td>0.001757</td>\n",
              "    </tr>\n",
              "    <tr>\n",
              "      <th>Main occupation of mother [P044]_2</th>\n",
              "      <td>0.004543</td>\n",
              "      <td>-0.000225</td>\n",
              "    </tr>\n",
              "    <tr>\n",
              "      <th>Main occupation of mother [P044]_4</th>\n",
              "      <td>0.005681</td>\n",
              "      <td>-0.007704</td>\n",
              "    </tr>\n",
              "    <tr>\n",
              "      <th>Main occupation of mother [P044]_6</th>\n",
              "      <td>-0.009035</td>\n",
              "      <td>-0.017775</td>\n",
              "    </tr>\n",
              "    <tr>\n",
              "      <th>Main occupation of mother [P044]_7</th>\n",
              "      <td>0.017094</td>\n",
              "      <td>-0.010664</td>\n",
              "    </tr>\n",
              "    <tr>\n",
              "      <th>Main occupation of mother [P044]_8</th>\n",
              "      <td>0.010416</td>\n",
              "      <td>0.008923</td>\n",
              "    </tr>\n",
              "    <tr>\n",
              "      <th>Main occupation of mother [P044]_9</th>\n",
              "      <td>0.014475</td>\n",
              "      <td>-0.002469</td>\n",
              "    </tr>\n",
              "    <tr>\n",
              "      <th>Main occupation of mother [P044]_10</th>\n",
              "      <td>0.002654</td>\n",
              "      <td>-0.009232</td>\n",
              "    </tr>\n",
              "    <tr>\n",
              "      <th>Main occupation of mother [P044]_11</th>\n",
              "      <td>0.006059</td>\n",
              "      <td>-0.002493</td>\n",
              "    </tr>\n",
              "    <tr>\n",
              "      <th>Main occupation of mother [P044]_12</th>\n",
              "      <td>-0.006115</td>\n",
              "      <td>0.007050</td>\n",
              "    </tr>\n",
              "    <tr>\n",
              "      <th>Region [P056]_2</th>\n",
              "      <td>0.008552</td>\n",
              "      <td>0.016017</td>\n",
              "    </tr>\n",
              "    <tr>\n",
              "      <th>Type of high school [P077]_1</th>\n",
              "      <td>0.015680</td>\n",
              "      <td>-0.026434</td>\n",
              "    </tr>\n",
              "    <tr>\n",
              "      <th>Type of high school [P077]_2</th>\n",
              "      <td>0.045553</td>\n",
              "      <td>0.013447</td>\n",
              "    </tr>\n",
              "    <tr>\n",
              "      <th>Type of high school [P077]_3</th>\n",
              "      <td>0.097172</td>\n",
              "      <td>0.066936</td>\n",
              "    </tr>\n",
              "  </tbody>\n",
              "</table>\n",
              "<p>72 rows × 2 columns</p>\n",
              "</div>"
            ],
            "text/plain": [
              "                                               0         1\n",
              "High School Code [P012]                -0.124795 -0.258945\n",
              "Year of Birth [P018]                    0.194240 -0.072636\n",
              "Nationality [P008]_2                    0.009337 -0.007341\n",
              "Gender [P009]_2                         0.016906  0.021973\n",
              "Civil status [P019]_2                  -0.014433 -0.047019\n",
              "Civil status [P019]_3                  -0.000507 -0.018774\n",
              "Civil status [P019]_4                  -0.018667  0.088447\n",
              "Income decile [P034]_2                  0.005986  0.000423\n",
              "Income decile [P034]_3                  0.011921 -0.003186\n",
              "Income decile [P034]_4                  0.019996 -0.000851\n",
              "Income decile [P034]_5                  0.024601  0.022336\n",
              "Income decile [P034]_6                  0.029701  0.019583\n",
              "Income decile [P034]_7                  0.040275  0.035750\n",
              "Income decile [P034]_8                  0.049692  0.051895\n",
              "Income decile [P034]_9                  0.067123  0.057983\n",
              "Income decile [P034]_10                 0.099601  0.084343\n",
              "Education of father [P037]_1           -0.032331 -0.016241\n",
              "Education of father [P037]_2           -0.023300  0.007594\n",
              "Education of father [P037]_3           -0.017811  0.007493\n",
              "Education of father [P037]_4           -0.016926  0.007458\n",
              "Education of father [P037]_5           -0.006969  0.032026\n",
              "Education of father [P037]_6            0.008625  0.033113\n",
              "Education of father [P037]_7            0.011878  0.010517\n",
              "Education of father [P037]_8            0.002571 -0.005930\n",
              "Education of father [P037]_10           0.015955  0.011635\n",
              "Education of father [P037]_11           0.024883  0.047106\n",
              "Education of father [P037]_12           0.004197  0.015595\n",
              "Education of mother [P038]_2           -0.016202  0.019042\n",
              "Education of mother [P038]_3           -0.012008  0.007145\n",
              "Education of mother [P038]_4           -0.011684 -0.004076\n",
              "...                                          ...       ...\n",
              "Occupational status of mother [P040]_1  0.007296  0.013360\n",
              "Occupational status of mother [P040]_3  0.031741  0.057209\n",
              "Occupational status of mother [P040]_4  0.007227  0.050585\n",
              "Occupational status of mother [P040]_5  0.001922  0.021677\n",
              "Occupational status of mother [P040]_6 -0.005801  0.031011\n",
              "Main occupation of father [P043]_1     -0.012178  0.014200\n",
              "Main occupation of father [P043]_2     -0.010582  0.000239\n",
              "Main occupation of father [P043]_3     -0.002014  0.039774\n",
              "Main occupation of father [P043]_4     -0.003597  0.002706\n",
              "Main occupation of father [P043]_5     -0.015973 -0.048941\n",
              "Main occupation of father [P043]_6     -0.008978 -0.018349\n",
              "Main occupation of father [P043]_7      0.003676 -0.027580\n",
              "Main occupation of father [P043]_8     -0.000830 -0.006151\n",
              "Main occupation of father [P043]_10    -0.006399 -0.005242\n",
              "Main occupation of father [P043]_11    -0.006231  0.000880\n",
              "Main occupation of father [P043]_12    -0.015473 -0.001748\n",
              "Main occupation of mother [P044]_1      0.000930  0.001757\n",
              "Main occupation of mother [P044]_2      0.004543 -0.000225\n",
              "Main occupation of mother [P044]_4      0.005681 -0.007704\n",
              "Main occupation of mother [P044]_6     -0.009035 -0.017775\n",
              "Main occupation of mother [P044]_7      0.017094 -0.010664\n",
              "Main occupation of mother [P044]_8      0.010416  0.008923\n",
              "Main occupation of mother [P044]_9      0.014475 -0.002469\n",
              "Main occupation of mother [P044]_10     0.002654 -0.009232\n",
              "Main occupation of mother [P044]_11     0.006059 -0.002493\n",
              "Main occupation of mother [P044]_12    -0.006115  0.007050\n",
              "Region [P056]_2                         0.008552  0.016017\n",
              "Type of high school [P077]_1            0.015680 -0.026434\n",
              "Type of high school [P077]_2            0.045553  0.013447\n",
              "Type of high school [P077]_3            0.097172  0.066936\n",
              "\n",
              "[72 rows x 2 columns]"
            ]
          },
          "metadata": {
            "tags": []
          },
          "execution_count": 39
        }
      ]
    },
    {
      "metadata": {
        "id": "B5RWATKJ7OUU",
        "colab_type": "code",
        "colab": {}
      },
      "cell_type": "code",
      "source": [
        "plt.hist(regr_1[pred_res_sampled['Gender [P009]_1']==1],bins=30)\n",
        "plt.hist(regr_2[pred_res_sampled['Gender [P009]_2']==1],bins=30,alpha=.7)"
      ],
      "execution_count": 0,
      "outputs": []
    },
    {
      "metadata": {
        "id": "RoviYe4oQElj",
        "colab_type": "code",
        "outputId": "fc7c719b-444a-430c-a553-312ca439259a",
        "colab": {
          "base_uri": "https://localhost:8080/",
          "height": 568
        }
      },
      "cell_type": "code",
      "source": [
        "plt.hist(pred_res['Math test score [P086]'][pred_res_sampled['Gender [P009]_1']==1],bins=30,alpha=1)\n",
        "plt.hist(pred_res['Math test score [P086]'][pred_res_sampled['Gender [P009]_2']==1],bins=30,alpha=.7)"
      ],
      "execution_count": 0,
      "outputs": [
        {
          "output_type": "execute_result",
          "data": {
            "text/plain": [
              "(array([4.000e+00, 2.100e+01, 8.000e+01, 1.980e+02, 3.970e+02, 6.780e+02,\n",
              "        1.294e+03, 1.966e+03, 2.841e+03, 4.081e+03, 5.307e+03, 6.595e+03,\n",
              "        7.880e+03, 8.706e+03, 9.546e+03, 9.920e+03, 9.590e+03, 9.100e+03,\n",
              "        8.214e+03, 7.371e+03, 6.218e+03, 4.879e+03, 3.948e+03, 2.967e+03,\n",
              "        2.044e+03, 1.300e+03, 7.270e+02, 3.790e+02, 1.310e+02, 1.800e+01]),\n",
              " array([0.07186314, 0.10210372, 0.13234429, 0.16258486, 0.19282543,\n",
              "        0.22306601, 0.25330658, 0.28354715, 0.31378772, 0.3440283 ,\n",
              "        0.37426887, 0.40450944, 0.43475001, 0.46499059, 0.49523116,\n",
              "        0.52547173, 0.5557123 , 0.58595288, 0.61619345, 0.64643402,\n",
              "        0.67667459, 0.70691517, 0.73715574, 0.76739631, 0.79763688,\n",
              "        0.82787746, 0.85811803, 0.8883586 , 0.91859917, 0.94883975,\n",
              "        0.97908032]),\n",
              " <a list of 30 Patch objects>)"
            ]
          },
          "metadata": {
            "tags": []
          },
          "execution_count": 32
        },
        {
          "output_type": "display_data",
          "data": {
            "image/png": "[encoded data removed]",
            "text/plain": [
              "<Figure size 576x396 with 1 Axes>"
            ]
          },
          "metadata": {
            "tags": []
          }
        }
      ]
    },
    {
      "metadata": {
        "id": "Z_GJIDCo4qdz",
        "colab_type": "code",
        "outputId": "0dc9bebf-3d72-4029-e6da-1019165c578c",
        "colab": {
          "base_uri": "https://localhost:8080/",
          "height": 551
        }
      },
      "cell_type": "code",
      "source": [
        "plt.hist(X_train_numpy['Math test score [P086]'][X_train_numpy['Gender [P009]_1']==1],bins=30,alpha=1)\n",
        "plt.hist(X_train_numpy['Math test score [P086]'][X_train_numpy['Gender [P009]_2']==1],bins=30,alpha=0.7)"
      ],
      "execution_count": 0,
      "outputs": [
        {
          "output_type": "execute_result",
          "data": {
            "text/plain": [
              "(array([ 1020.,     0.,     0.,     0.,     0.,    44.,   174.,   439.,\n",
              "          609.,   992.,  1487.,  5396.,  4092.,  4832., 11245.,  5785.,\n",
              "        11151., 13685., 13200.,  9557., 10698.,  8007.,  7028.,  4447.,\n",
              "         3419.,  1929.,  1255.,   702.,   612.,   310.]),\n",
              " array([0.        , 0.03333333, 0.06666667, 0.1       , 0.13333333,\n",
              "        0.16666667, 0.2       , 0.23333333, 0.26666667, 0.3       ,\n",
              "        0.33333333, 0.36666667, 0.4       , 0.43333333, 0.46666667,\n",
              "        0.5       , 0.53333333, 0.56666667, 0.6       , 0.63333333,\n",
              "        0.66666667, 0.7       , 0.73333333, 0.76666667, 0.8       ,\n",
              "        0.83333333, 0.86666667, 0.9       , 0.93333333, 0.96666667,\n",
              "        1.        ]),\n",
              " <a list of 30 Patch objects>)"
            ]
          },
          "metadata": {
            "tags": []
          },
          "execution_count": 30
        },
        {
          "output_type": "display_data",
          "data": {
            "image/png": "[encoded data removed]",
            "text/plain": [
              "<Figure size 576x396 with 1 Axes>"
            ]
          },
          "metadata": {
            "tags": []
          }
        }
      ]
    },
    {
      "metadata": {
        "id": "C8x8USuboUsL",
        "colab_type": "code",
        "outputId": "45b05fe0-16e0-48d4-dd22-aeea13f16955",
        "colab": {
          "base_uri": "https://localhost:8080/",
          "height": 364
        }
      },
      "cell_type": "code",
      "source": [
        "plt.plot(np.sum(pred_res_sampled.values,axis=0))\n",
        "plt.plot(np.sum(X_train_numpy.values,axis=0))"
      ],
      "execution_count": 0,
      "outputs": [
        {
          "output_type": "execute_result",
          "data": {
            "text/plain": [
              "[<matplotlib.lines.Line2D at 0x7f93a6859c50>]"
            ]
          },
          "metadata": {
            "tags": []
          },
          "execution_count": 33
        },
        {
          "output_type": "display_data",
          "data": {
            "image/png": "[encoded data removed]",
            "text/plain": [
              "<Figure size 576x396 with 1 Axes>"
            ]
          },
          "metadata": {
            "tags": []
          }
        }
      ]
    },
    {
      "metadata": {
        "id": "B1OOwRpiVPYp",
        "colab_type": "text"
      },
      "cell_type": "markdown",
      "source": [
        "### SQF eval"
      ]
    },
    {
      "metadata": {
        "id": "vkXm7TbmVQ5a",
        "colab_type": "code",
        "colab": {}
      },
      "cell_type": "code",
      "source": [
        ""
      ],
      "execution_count": 0,
      "outputs": []
    },
    {
      "metadata": {
        "id": "QqdFNRn5VTf2",
        "colab_type": "text"
      },
      "cell_type": "markdown",
      "source": [
        "### CMP eval"
      ]
    },
    {
      "metadata": {
        "id": "HCYUg-BqVUyn",
        "colab_type": "code",
        "colab": {}
      },
      "cell_type": "code",
      "source": [
        "#cat_vector\n",
        "cmp_indep = eval_orig.columns.tolist()\n",
        "cmp_dep = ['is_recid_1','two_year_recid_1']\n",
        "[cmp_indep.remove(i) for i in cmp_dep]\n",
        "tmp = np.sum(eval_gen[cmp_indep]) > 0\n",
        "cmp_indep = tmp.index[tmp]"
      ],
      "execution_count": 0,
      "outputs": []
    },
    {
      "metadata": {
        "id": "BCftA40AXswK",
        "colab_type": "code",
        "outputId": "53165f1c-18ef-430a-ac06-6be017259694",
        "colab": {
          "base_uri": "https://localhost:8080/",
          "height": 458
        }
      },
      "cell_type": "code",
      "source": [
        "cmp_comp,cmp_regr_1,cmp_regr_2 = simpleLogit_comparison(eval_orig[cmp_indep],eval_orig[cmp_dep[1]],eval_gen[cmp_indep],eval_gen[cmp_dep[1]])\n",
        "cmp_comp"
      ],
      "execution_count": 24,
      "outputs": [
        {
          "output_type": "stream",
          "text": [
            "/usr/local/lib/python3.6/dist-packages/sklearn/linear_model/logistic.py:433: FutureWarning: Default solver will be changed to 'lbfgs' in 0.22. Specify a solver to silence this warning.\n",
            "  FutureWarning)\n",
            "/usr/local/lib/python3.6/dist-packages/sklearn/linear_model/logistic.py:433: FutureWarning: Default solver will be changed to 'lbfgs' in 0.22. Specify a solver to silence this warning.\n",
            "  FutureWarning)\n"
          ],
          "name": "stderr"
        },
        {
          "output_type": "execute_result",
          "data": {
            "text/html": [
              "<div>\n",
              "<style scoped>\n",
              "    .dataframe tbody tr th:only-of-type {\n",
              "        vertical-align: middle;\n",
              "    }\n",
              "\n",
              "    .dataframe tbody tr th {\n",
              "        vertical-align: top;\n",
              "    }\n",
              "\n",
              "    .dataframe thead th {\n",
              "        text-align: right;\n",
              "    }\n",
              "</style>\n",
              "<table border=\"1\" class=\"dataframe\">\n",
              "  <thead>\n",
              "    <tr style=\"text-align: right;\">\n",
              "      <th></th>\n",
              "      <th>0</th>\n",
              "      <th>1</th>\n",
              "    </tr>\n",
              "  </thead>\n",
              "  <tbody>\n",
              "    <tr>\n",
              "      <th>age</th>\n",
              "      <td>-1.994039</td>\n",
              "      <td>-5.817805</td>\n",
              "    </tr>\n",
              "    <tr>\n",
              "      <th>priors_count</th>\n",
              "      <td>3.927175</td>\n",
              "      <td>6.353255</td>\n",
              "    </tr>\n",
              "    <tr>\n",
              "      <th>days_b_screening_arrest</th>\n",
              "      <td>1.043386</td>\n",
              "      <td>8.728571</td>\n",
              "    </tr>\n",
              "    <tr>\n",
              "      <th>decile_score</th>\n",
              "      <td>1.462294</td>\n",
              "      <td>1.118669</td>\n",
              "    </tr>\n",
              "    <tr>\n",
              "      <th>length_of_stay</th>\n",
              "      <td>0.826650</td>\n",
              "      <td>0.774950</td>\n",
              "    </tr>\n",
              "    <tr>\n",
              "      <th>c_charge_degree_M</th>\n",
              "      <td>-0.159138</td>\n",
              "      <td>-0.116393</td>\n",
              "    </tr>\n",
              "    <tr>\n",
              "      <th>race_Asian</th>\n",
              "      <td>-0.426537</td>\n",
              "      <td>-1.597405</td>\n",
              "    </tr>\n",
              "    <tr>\n",
              "      <th>race_Caucasian</th>\n",
              "      <td>0.025631</td>\n",
              "      <td>0.027363</td>\n",
              "    </tr>\n",
              "    <tr>\n",
              "      <th>race_Hispanic</th>\n",
              "      <td>-0.086662</td>\n",
              "      <td>0.038124</td>\n",
              "    </tr>\n",
              "    <tr>\n",
              "      <th>race_Other</th>\n",
              "      <td>-0.021547</td>\n",
              "      <td>0.282678</td>\n",
              "    </tr>\n",
              "    <tr>\n",
              "      <th>sex_Male</th>\n",
              "      <td>0.361629</td>\n",
              "      <td>0.532231</td>\n",
              "    </tr>\n",
              "  </tbody>\n",
              "</table>\n",
              "</div>"
            ],
            "text/plain": [
              "                                0         1\n",
              "age                     -1.994039 -5.817805\n",
              "priors_count             3.927175  6.353255\n",
              "days_b_screening_arrest  1.043386  8.728571\n",
              "decile_score             1.462294  1.118669\n",
              "length_of_stay           0.826650  0.774950\n",
              "c_charge_degree_M       -0.159138 -0.116393\n",
              "race_Asian              -0.426537 -1.597405\n",
              "race_Caucasian           0.025631  0.027363\n",
              "race_Hispanic           -0.086662  0.038124\n",
              "race_Other              -0.021547  0.282678\n",
              "sex_Male                 0.361629  0.532231"
            ]
          },
          "metadata": {
            "tags": []
          },
          "execution_count": 24
        }
      ]
    },
    {
      "metadata": {
        "id": "39FpZDeaHDs4",
        "colab_type": "code",
        "colab": {}
      },
      "cell_type": "code",
      "source": [
        "# sex_male vs sex_female\n",
        "\n",
        "cmp_male = eval_orig['sex_Male']==1 # ~ logical not / inversion\n",
        "cmp_female = ~cmp_male\n",
        "\n",
        "gen_cmp_male = eval_gen['sex_Male']==1 \n",
        "gen_cmp_female = ~gen_cmp_male"
      ],
      "execution_count": 0,
      "outputs": []
    },
    {
      "metadata": {
        "id": "AE_Y3N2aTDTG",
        "colab_type": "code",
        "colab": {}
      },
      "cell_type": "code",
      "source": [
        "fpr_f,tpr_f,threshold_f = roc_curve(y_true=eval_orig[cmp_dep[0]][cmp_female],y_score=cmp_regr_1[cmp_female,1])\n",
        "fpr_m,tpr_m,threshold_m = roc_curve(y_true=eval_orig[cmp_dep[0]][cmp_male],y_score=cmp_regr_1[cmp_male,1])\n",
        "\n",
        "gen_fpr_f,gen_tpr_f,threshold_gen_f = roc_curve(y_true=eval_gen[cmp_dep[0]][gen_cmp_female],y_score=cmp_regr_2[gen_cmp_female,1])\n",
        "gen_fpr_m,gen_tpr_m,threshold_gen_m = roc_curve(y_true=eval_gen[cmp_dep[0]][gen_cmp_male],y_score=cmp_regr_2[gen_cmp_male,1])"
      ],
      "execution_count": 0,
      "outputs": []
    },
    {
      "metadata": {
        "id": "AKfLCLwOTsu5",
        "colab_type": "code",
        "colab": {
          "base_uri": "https://localhost:8080/",
          "height": 364
        },
        "outputId": "9790aacb-3a60-4076-97ed-e56443288b1e"
      },
      "cell_type": "code",
      "source": [
        "plt.subplot(121)\n",
        "plt.plot(fpr_f,tpr_f)\n",
        "plt.plot(fpr_m,tpr_m)\n",
        "\n",
        "plt.subplot(122)\n",
        "plt.plot(gen_fpr_f,gen_tpr_f)\n",
        "plt.plot(gen_fpr_m,gen_tpr_m)\n",
        "\n",
        "print('ROC curves, female blue, male green, original data left, generated on the right')"
      ],
      "execution_count": 33,
      "outputs": [
        {
          "output_type": "stream",
          "text": [
            "ROC curves, female blue, male green, original data left, generated on the right\n"
          ],
          "name": "stdout"
        },
        {
          "output_type": "display_data",
          "data": {
            "image/png": "[encoded data removed]",
            "text/plain": [
              "<Figure size 576x396 with 2 Axes>"
            ]
          },
          "metadata": {
            "tags": []
          }
        }
      ]
    },
    {
      "metadata": {
        "id": "hFdmLF4VT6uc",
        "colab_type": "code",
        "colab": {
          "base_uri": "https://localhost:8080/",
          "height": 347
        },
        "outputId": "c4c59e65-6f36-4c74-9362-2df94d6d913d"
      },
      "cell_type": "code",
      "source": [
        "num_buckets = 10\n",
        "\n",
        "plt.subplot(211)\n",
        "plot_confidence(range(1,num_buckets+1),eval_orig[cmp_dep[0]][cmp_male],cmp_regr_1[cmp_male,1],num_buckets)\n",
        "plot_confidence(range(1,num_buckets+1),eval_orig[cmp_dep[0]][cmp_female],cmp_regr_1[cmp_female,1],num_buckets)\n",
        "plt.subplot(212)\n",
        "plot_confidence(range(1,num_buckets+1),eval_gen[cmp_dep[0]][gen_cmp_male],cmp_regr_2[gen_cmp_male,1],num_buckets)\n",
        "plot_confidence(range(1,num_buckets+1),eval_gen[cmp_dep[0]][gen_cmp_female],cmp_regr_2[gen_cmp_female,1],num_buckets)"
      ],
      "execution_count": 34,
      "outputs": [
        {
          "output_type": "display_data",
          "data": {
            "image/png": "[encoded data removed]",
            "text/plain": [
              "<Figure size 576x396 with 2 Axes>"
            ]
          },
          "metadata": {
            "tags": []
          }
        }
      ]
    },
    {
      "metadata": {
        "id": "brB5fn1BVVSY",
        "colab_type": "text"
      },
      "cell_type": "markdown",
      "source": [
        "### Schufa eval"
      ]
    },
    {
      "metadata": {
        "id": "A0U_nQKZVX3Y",
        "colab_type": "code",
        "colab": {}
      },
      "cell_type": "code",
      "source": [
        "#cat_vector\n",
        "schufa_indep = eval_orig.columns.tolist()\n",
        "schufa_dep = schufa_indep[-1]\n",
        "schufa_indep = schufa_indep[:-1]\n",
        "tmp = np.sum(eval_gen[schufa_indep]) > 0\n",
        "schufa_indep = tmp.index[tmp]\n",
        "\n"
      ],
      "execution_count": 0,
      "outputs": []
    },
    {
      "metadata": {
        "id": "ABFm85cpMccS",
        "colab_type": "code",
        "outputId": "50480a33-c010-4493-d095-e222ec5fa3e0",
        "colab": {
          "base_uri": "https://localhost:8080/",
          "height": 1625
        }
      },
      "cell_type": "code",
      "source": [
        "schufa_comp,schufa_regr_1,schufa_regr_2 = simpleLogit_comparison(eval_orig[schufa_indep],eval_orig[schufa_dep],eval_gen[schufa_indep],eval_gen[schufa_dep])\n",
        "schufa_comp"
      ],
      "execution_count": 8,
      "outputs": [
        {
          "output_type": "stream",
          "text": [
            "/usr/local/lib/python3.6/dist-packages/sklearn/linear_model/logistic.py:433: FutureWarning: Default solver will be changed to 'lbfgs' in 0.22. Specify a solver to silence this warning.\n",
            "  FutureWarning)\n",
            "/usr/local/lib/python3.6/dist-packages/sklearn/linear_model/logistic.py:433: FutureWarning: Default solver will be changed to 'lbfgs' in 0.22. Specify a solver to silence this warning.\n",
            "  FutureWarning)\n"
          ],
          "name": "stderr"
        },
        {
          "output_type": "execute_result",
          "data": {
            "text/html": [
              "<div>\n",
              "<style scoped>\n",
              "    .dataframe tbody tr th:only-of-type {\n",
              "        vertical-align: middle;\n",
              "    }\n",
              "\n",
              "    .dataframe tbody tr th {\n",
              "        vertical-align: top;\n",
              "    }\n",
              "\n",
              "    .dataframe thead th {\n",
              "        text-align: right;\n",
              "    }\n",
              "</style>\n",
              "<table border=\"1\" class=\"dataframe\">\n",
              "  <thead>\n",
              "    <tr style=\"text-align: right;\">\n",
              "      <th></th>\n",
              "      <th>0</th>\n",
              "      <th>1</th>\n",
              "    </tr>\n",
              "  </thead>\n",
              "  <tbody>\n",
              "    <tr>\n",
              "      <th>1</th>\n",
              "      <td>1.686473</td>\n",
              "      <td>2.754965</td>\n",
              "    </tr>\n",
              "    <tr>\n",
              "      <th>4</th>\n",
              "      <td>1.643226</td>\n",
              "      <td>1.253950</td>\n",
              "    </tr>\n",
              "    <tr>\n",
              "      <th>7</th>\n",
              "      <td>0.817782</td>\n",
              "      <td>1.035598</td>\n",
              "    </tr>\n",
              "    <tr>\n",
              "      <th>10</th>\n",
              "      <td>0.031862</td>\n",
              "      <td>0.106563</td>\n",
              "    </tr>\n",
              "    <tr>\n",
              "      <th>12</th>\n",
              "      <td>-0.607136</td>\n",
              "      <td>-0.932559</td>\n",
              "    </tr>\n",
              "    <tr>\n",
              "      <th>15</th>\n",
              "      <td>0.619429</td>\n",
              "      <td>0.330262</td>\n",
              "    </tr>\n",
              "    <tr>\n",
              "      <th>17</th>\n",
              "      <td>0.217918</td>\n",
              "      <td>0.528626</td>\n",
              "    </tr>\n",
              "    <tr>\n",
              "      <th>0_A12</th>\n",
              "      <td>-0.313413</td>\n",
              "      <td>0.025846</td>\n",
              "    </tr>\n",
              "    <tr>\n",
              "      <th>0_A13</th>\n",
              "      <td>-0.846331</td>\n",
              "      <td>-0.229949</td>\n",
              "    </tr>\n",
              "    <tr>\n",
              "      <th>0_A14</th>\n",
              "      <td>-1.598474</td>\n",
              "      <td>-1.468808</td>\n",
              "    </tr>\n",
              "    <tr>\n",
              "      <th>2_A31</th>\n",
              "      <td>0.307201</td>\n",
              "      <td>0.019573</td>\n",
              "    </tr>\n",
              "    <tr>\n",
              "      <th>2_A32</th>\n",
              "      <td>-0.315175</td>\n",
              "      <td>-0.440676</td>\n",
              "    </tr>\n",
              "    <tr>\n",
              "      <th>2_A33</th>\n",
              "      <td>-0.497839</td>\n",
              "      <td>-0.581083</td>\n",
              "    </tr>\n",
              "    <tr>\n",
              "      <th>2_A34</th>\n",
              "      <td>-1.069828</td>\n",
              "      <td>-1.165636</td>\n",
              "    </tr>\n",
              "    <tr>\n",
              "      <th>3_A41</th>\n",
              "      <td>-1.281024</td>\n",
              "      <td>-1.399105</td>\n",
              "    </tr>\n",
              "    <tr>\n",
              "      <th>3_A410</th>\n",
              "      <td>-0.786845</td>\n",
              "      <td>-0.926416</td>\n",
              "    </tr>\n",
              "    <tr>\n",
              "      <th>3_A42</th>\n",
              "      <td>-0.558281</td>\n",
              "      <td>-0.565766</td>\n",
              "    </tr>\n",
              "    <tr>\n",
              "      <th>3_A43</th>\n",
              "      <td>-0.709848</td>\n",
              "      <td>-0.520137</td>\n",
              "    </tr>\n",
              "    <tr>\n",
              "      <th>3_A44</th>\n",
              "      <td>-0.248349</td>\n",
              "      <td>0.611292</td>\n",
              "    </tr>\n",
              "    <tr>\n",
              "      <th>3_A45</th>\n",
              "      <td>-0.035581</td>\n",
              "      <td>0.122190</td>\n",
              "    </tr>\n",
              "    <tr>\n",
              "      <th>3_A46</th>\n",
              "      <td>0.142641</td>\n",
              "      <td>-0.368418</td>\n",
              "    </tr>\n",
              "    <tr>\n",
              "      <th>3_A48</th>\n",
              "      <td>-0.851618</td>\n",
              "      <td>-0.920331</td>\n",
              "    </tr>\n",
              "    <tr>\n",
              "      <th>3_A49</th>\n",
              "      <td>-0.440793</td>\n",
              "      <td>-0.512239</td>\n",
              "    </tr>\n",
              "    <tr>\n",
              "      <th>5_A62</th>\n",
              "      <td>-0.256827</td>\n",
              "      <td>-0.331013</td>\n",
              "    </tr>\n",
              "    <tr>\n",
              "      <th>5_A63</th>\n",
              "      <td>-0.360323</td>\n",
              "      <td>-0.836579</td>\n",
              "    </tr>\n",
              "    <tr>\n",
              "      <th>5_A64</th>\n",
              "      <td>-1.044011</td>\n",
              "      <td>-1.165194</td>\n",
              "    </tr>\n",
              "    <tr>\n",
              "      <th>5_A65</th>\n",
              "      <td>-0.832401</td>\n",
              "      <td>-1.120592</td>\n",
              "    </tr>\n",
              "    <tr>\n",
              "      <th>6_A72</th>\n",
              "      <td>0.163805</td>\n",
              "      <td>0.251925</td>\n",
              "    </tr>\n",
              "    <tr>\n",
              "      <th>6_A73</th>\n",
              "      <td>0.032635</td>\n",
              "      <td>0.188499</td>\n",
              "    </tr>\n",
              "    <tr>\n",
              "      <th>6_A74</th>\n",
              "      <td>-0.549984</td>\n",
              "      <td>-0.302548</td>\n",
              "    </tr>\n",
              "    <tr>\n",
              "      <th>6_A75</th>\n",
              "      <td>-0.109046</td>\n",
              "      <td>-0.528633</td>\n",
              "    </tr>\n",
              "    <tr>\n",
              "      <th>8_A92</th>\n",
              "      <td>-0.078755</td>\n",
              "      <td>-0.079959</td>\n",
              "    </tr>\n",
              "    <tr>\n",
              "      <th>8_A93</th>\n",
              "      <td>-0.565382</td>\n",
              "      <td>-0.677516</td>\n",
              "    </tr>\n",
              "    <tr>\n",
              "      <th>8_A94</th>\n",
              "      <td>-0.224352</td>\n",
              "      <td>-0.368269</td>\n",
              "    </tr>\n",
              "    <tr>\n",
              "      <th>9_A102</th>\n",
              "      <td>0.368027</td>\n",
              "      <td>0.201007</td>\n",
              "    </tr>\n",
              "    <tr>\n",
              "      <th>9_A103</th>\n",
              "      <td>-0.806345</td>\n",
              "      <td>-0.804504</td>\n",
              "    </tr>\n",
              "    <tr>\n",
              "      <th>11_A122</th>\n",
              "      <td>0.264639</td>\n",
              "      <td>0.217347</td>\n",
              "    </tr>\n",
              "    <tr>\n",
              "      <th>11_A123</th>\n",
              "      <td>0.223441</td>\n",
              "      <td>0.119528</td>\n",
              "    </tr>\n",
              "    <tr>\n",
              "      <th>11_A124</th>\n",
              "      <td>0.625831</td>\n",
              "      <td>0.379515</td>\n",
              "    </tr>\n",
              "    <tr>\n",
              "      <th>13_A142</th>\n",
              "      <td>-0.036103</td>\n",
              "      <td>0.315125</td>\n",
              "    </tr>\n",
              "    <tr>\n",
              "      <th>13_A143</th>\n",
              "      <td>-0.538946</td>\n",
              "      <td>-0.278033</td>\n",
              "    </tr>\n",
              "    <tr>\n",
              "      <th>14_A152</th>\n",
              "      <td>-0.373039</td>\n",
              "      <td>-0.337924</td>\n",
              "    </tr>\n",
              "    <tr>\n",
              "      <th>14_A153</th>\n",
              "      <td>-0.443154</td>\n",
              "      <td>-0.236882</td>\n",
              "    </tr>\n",
              "    <tr>\n",
              "      <th>16_A172</th>\n",
              "      <td>0.227603</td>\n",
              "      <td>-0.015923</td>\n",
              "    </tr>\n",
              "    <tr>\n",
              "      <th>16_A173</th>\n",
              "      <td>0.294792</td>\n",
              "      <td>0.173165</td>\n",
              "    </tr>\n",
              "    <tr>\n",
              "      <th>16_A174</th>\n",
              "      <td>0.280057</td>\n",
              "      <td>0.215756</td>\n",
              "    </tr>\n",
              "    <tr>\n",
              "      <th>18_A192</th>\n",
              "      <td>-0.261591</td>\n",
              "      <td>-0.186285</td>\n",
              "    </tr>\n",
              "    <tr>\n",
              "      <th>19_A202</th>\n",
              "      <td>-0.958697</td>\n",
              "      <td>-0.266413</td>\n",
              "    </tr>\n",
              "  </tbody>\n",
              "</table>\n",
              "</div>"
            ],
            "text/plain": [
              "                0         1\n",
              "1        1.686473  2.754965\n",
              "4        1.643226  1.253950\n",
              "7        0.817782  1.035598\n",
              "10       0.031862  0.106563\n",
              "12      -0.607136 -0.932559\n",
              "15       0.619429  0.330262\n",
              "17       0.217918  0.528626\n",
              "0_A12   -0.313413  0.025846\n",
              "0_A13   -0.846331 -0.229949\n",
              "0_A14   -1.598474 -1.468808\n",
              "2_A31    0.307201  0.019573\n",
              "2_A32   -0.315175 -0.440676\n",
              "2_A33   -0.497839 -0.581083\n",
              "2_A34   -1.069828 -1.165636\n",
              "3_A41   -1.281024 -1.399105\n",
              "3_A410  -0.786845 -0.926416\n",
              "3_A42   -0.558281 -0.565766\n",
              "3_A43   -0.709848 -0.520137\n",
              "3_A44   -0.248349  0.611292\n",
              "3_A45   -0.035581  0.122190\n",
              "3_A46    0.142641 -0.368418\n",
              "3_A48   -0.851618 -0.920331\n",
              "3_A49   -0.440793 -0.512239\n",
              "5_A62   -0.256827 -0.331013\n",
              "5_A63   -0.360323 -0.836579\n",
              "5_A64   -1.044011 -1.165194\n",
              "5_A65   -0.832401 -1.120592\n",
              "6_A72    0.163805  0.251925\n",
              "6_A73    0.032635  0.188499\n",
              "6_A74   -0.549984 -0.302548\n",
              "6_A75   -0.109046 -0.528633\n",
              "8_A92   -0.078755 -0.079959\n",
              "8_A93   -0.565382 -0.677516\n",
              "8_A94   -0.224352 -0.368269\n",
              "9_A102   0.368027  0.201007\n",
              "9_A103  -0.806345 -0.804504\n",
              "11_A122  0.264639  0.217347\n",
              "11_A123  0.223441  0.119528\n",
              "11_A124  0.625831  0.379515\n",
              "13_A142 -0.036103  0.315125\n",
              "13_A143 -0.538946 -0.278033\n",
              "14_A152 -0.373039 -0.337924\n",
              "14_A153 -0.443154 -0.236882\n",
              "16_A172  0.227603 -0.015923\n",
              "16_A173  0.294792  0.173165\n",
              "16_A174  0.280057  0.215756\n",
              "18_A192 -0.261591 -0.186285\n",
              "19_A202 -0.958697 -0.266413"
            ]
          },
          "metadata": {
            "tags": []
          },
          "execution_count": 8
        }
      ]
    },
    {
      "metadata": {
        "id": "vj_ojVLO8Ycz",
        "colab_type": "code",
        "colab": {}
      },
      "cell_type": "code",
      "source": [
        "# Attribute 9: (qualitative) \n",
        "# Personal status and sex \n",
        "# A91 : male : divorced/separated \n",
        "# A92 : female : divorced/separated/married \n",
        "# A93 : male : single \n",
        "# A94 : male : married/widowed \n",
        "# A95 : female : single \n",
        "\n",
        "schufa_female = eval_orig['8_A92']==1 # | eval_orig['8_A95']==1 # second one has been removed because not generated\n",
        "schufa_male = ~schufa_female # ~ logical not / inversion\n",
        "\n",
        "gen_schufa_female = eval_gen['8_A92']==1 \n",
        "gen_schufa_male = ~gen_schufa_female "
      ],
      "execution_count": 0,
      "outputs": []
    },
    {
      "metadata": {
        "id": "9ndhoajD-NYs",
        "colab_type": "code",
        "colab": {}
      },
      "cell_type": "code",
      "source": [
        "\n",
        "\n",
        "fpr_f,tpr_f,threshold_f = roc_curve(y_true=eval_orig[schufa_dep][schufa_female],y_score=schufa_regr_1[schufa_female,1])\n",
        "fpr_m,tpr_m,threshold_m = roc_curve(y_true=eval_orig[schufa_dep][schufa_male],y_score=schufa_regr_1[schufa_male,1])\n",
        "\n",
        "gen_fpr_f,gen_tpr_f,threshold_gen_f = roc_curve(y_true=eval_gen[schufa_dep][gen_schufa_female],y_score=schufa_regr_2[gen_schufa_female,1])\n",
        "gen_fpr_m,gen_tpr_m,threshold_gen_m = roc_curve(y_true=eval_gen[schufa_dep][gen_schufa_male],y_score=schufa_regr_2[gen_schufa_male,1])"
      ],
      "execution_count": 0,
      "outputs": []
    },
    {
      "metadata": {
        "id": "qXmVaV0D_Qiw",
        "colab_type": "code",
        "outputId": "9d9b307a-8aba-4419-b9b8-044120051f92",
        "colab": {
          "base_uri": "https://localhost:8080/",
          "height": 364
        }
      },
      "cell_type": "code",
      "source": [
        "plt.subplot(121)\n",
        "plt.plot(fpr_f,tpr_f)\n",
        "plt.plot(fpr_m,tpr_m)\n",
        "\n",
        "plt.subplot(122)\n",
        "plt.plot(gen_fpr_f,gen_tpr_f)\n",
        "plt.plot(gen_fpr_m,gen_tpr_m)\n",
        "\n",
        "print('ROC curves, female blue, male green, original data left, generated on the right')"
      ],
      "execution_count": 11,
      "outputs": [
        {
          "output_type": "stream",
          "text": [
            "ROC curves, female blue, male green, original data left, generated on the right\n"
          ],
          "name": "stdout"
        },
        {
          "output_type": "display_data",
          "data": {
            "image/png": "[encoded data removed]",
            "text/plain": [
              "<Figure size 576x396 with 2 Axes>"
            ]
          },
          "metadata": {
            "tags": []
          }
        }
      ]
    },
    {
      "metadata": {
        "id": "w9Thug5LGjLf",
        "colab_type": "code",
        "outputId": "a7443ed3-eccc-435d-df1d-c1a575576040",
        "colab": {
          "base_uri": "https://localhost:8080/",
          "height": 368
        }
      },
      "cell_type": "code",
      "source": [
        "plt.subplot(211)\n",
        "plot_por_vs_thresholds(schufa_regr_2[gen_schufa_female,1],schufa_regr_2[gen_schufa_male,1],threshold_gen_f,threshold_gen_m)\n",
        "plt.subplot(212)\n",
        "plot_por_vs_thresholds(schufa_regr_1[schufa_female,1],schufa_regr_1[schufa_male,1],threshold_f,threshold_m)\n",
        "print('y=Positive outcome rate given x=threshold set')"
      ],
      "execution_count": 12,
      "outputs": [
        {
          "output_type": "display_data",
          "data": {
            "image/png": "[encoded data removed]",
            "text/plain": [
              "<Figure size 576x396 with 1 Axes>"
            ]
          },
          "metadata": {
            "tags": []
          }
        },
        {
          "output_type": "display_data",
          "data": {
            "image/png": "[encoded data removed]",
            "text/plain": [
              "<Figure size 576x396 with 1 Axes>"
            ]
          },
          "metadata": {
            "tags": []
          }
        },
        {
          "output_type": "stream",
          "text": [
            "y=Positive outcome rate given x=threshold set\n"
          ],
          "name": "stdout"
        }
      ]
    },
    {
      "metadata": {
        "id": "__GyqEl0kRUw",
        "colab_type": "code",
        "outputId": "cb6d792a-49a3-4cd7-e114-f52dd223f66a",
        "colab": {
          "base_uri": "https://localhost:8080/",
          "height": 347
        }
      },
      "cell_type": "code",
      "source": [
        "num_buckets = 10\n",
        "\n",
        "plt.subplot(211)\n",
        "plot_confidence(range(1,num_buckets+1),eval_orig[schufa_dep][schufa_male],schufa_regr_1[schufa_male,1],num_buckets)\n",
        "plot_confidence(range(1,num_buckets+1),eval_orig[schufa_dep][schufa_female],schufa_regr_1[schufa_female,1],num_buckets)\n",
        "plt.subplot(212)\n",
        "plot_confidence(range(1,num_buckets+1),eval_gen[schufa_dep][gen_schufa_male],schufa_regr_2[gen_schufa_male,1],num_buckets)\n",
        "plot_confidence(range(1,num_buckets+1),eval_gen[schufa_dep][gen_schufa_female],schufa_regr_2[gen_schufa_female,1],num_buckets)\n",
        "\n"
      ],
      "execution_count": 13,
      "outputs": [
        {
          "output_type": "display_data",
          "data": {
            "image/png": "[encoded data removed]",
            "text/plain": [
              "<Figure size 576x396 with 2 Axes>"
            ]
          },
          "metadata": {
            "tags": []
          }
        }
      ]
    },
    {
      "metadata": {
        "id": "mpqDFYJLcPCx",
        "colab_type": "text"
      },
      "cell_type": "markdown",
      "source": [
        "# Writing a complete evaluation for one dataset"
      ]
    },
    {
      "metadata": {
        "id": "knEyWiY5cXg5",
        "colab_type": "text"
      },
      "cell_type": "markdown",
      "source": [
        "Bias soll erhalten werden:\n",
        "\n",
        "Dokumentieren dass der bias erhalten bleibt \n",
        "\n",
        "*   Äquitas / nr2 (nikita)\n",
        "*   Variable importance  /koeffizienten\n",
        "*   Richtiges loigt model? Signifikanz (stats package), forward selection?\n",
        "*   Non linear model\n",
        "\n",
        "Wie gut kann man original rückschlüsse ziehen:\n",
        "+   vorhersage der geschützten variable auf echten datensatz, nutzung der generierten daten als training\n",
        "+   auch mit nicht linearer benchmark\n",
        "\n",
        "TODO:\n",
        "\n",
        "*   \n",
        "*   List item\n",
        "\n"
      ]
    },
    {
      "metadata": {
        "id": "GrzAvlj2t2e0",
        "colab_type": "text"
      },
      "cell_type": "markdown",
      "source": [
        "## Linear Models"
      ]
    },
    {
      "metadata": {
        "id": "FW7oi0D3iz75",
        "colab_type": "code",
        "colab": {}
      },
      "cell_type": "code",
      "source": [
        "### Stolen Wrapper for additional information on logit model from sklearn\n",
        "# FROM: https://gist.github.com/rspeare\n",
        "\n",
        "from sklearn import linear_model\n",
        "import numpy as np\n",
        "import scipy.stats as stat\n",
        "\n",
        "        "
      ],
      "execution_count": 0,
      "outputs": []
    },
    {
      "metadata": {
        "id": "q6NEZvcRDhOF",
        "colab_type": "code",
        "colab": {}
      },
      "cell_type": "code",
      "source": [
        "#cat_vector\n",
        "schufa_indep = eval_orig.columns.tolist()\n",
        "schufa_dep = schufa_indep[-1]\n",
        "schufa_indep = schufa_indep[:-1]\n",
        "tmp = np.sum(eval_gen[schufa_indep]) > 0\n",
        "schufa_indep = tmp.index[tmp]\n",
        "\n",
        "\n",
        "\n",
        "X = eval_orig[schufa_indep]\n",
        "Y = eval_orig[schufa_dep]"
      ],
      "execution_count": 0,
      "outputs": []
    },
    {
      "metadata": {
        "id": "5mAEL7BdqL4A",
        "colab_type": "code",
        "colab": {
          "base_uri": "https://localhost:8080/",
          "height": 289
        },
        "outputId": "9fc8c46a-18c1-4857-e0cd-38e5b6c8498b"
      },
      "cell_type": "code",
      "source": [
        "# variable importance using extra trees:\n",
        "from sklearn.ensemble import ExtraTreesClassifier\n",
        "from sklearn.feature_selection import RFE,chi2\n",
        "\n",
        "var_imp_model = ExtraTreesClassifier(n_estimators=100)\n",
        "var_imp_model.fit(X,Y)\n",
        "\n",
        "print('variable importance using trees: ')\n",
        "print(var_imp_model.feature_importances_)\n",
        "\n",
        "\n",
        "estimator = linear_model.LogisticRegression(solver='lbfgs')\n",
        "selector = RFE(estimator)\n",
        "selector = selector.fit(X,Y)\n",
        "\n",
        "print('RFE feature ranking and feature support:')\n",
        "print(selector.ranking_)\n",
        "print(selector.support_)\n",
        "\n",
        "\n"
      ],
      "execution_count": 10,
      "outputs": [
        {
          "output_type": "stream",
          "text": [
            "variable importance using trees: \n",
            "[0.06033521 0.0588801  0.03941185 0.037631   0.0492278  0.02511149\n",
            " 0.01776935 0.02584346 0.01510073 0.07662249 0.01361923 0.01936498\n",
            " 0.01225765 0.02537973 0.01242915 0.00257455 0.02065137 0.0192383\n",
            " 0.0032905  0.00693162 0.0104521  0.0019215  0.01456123 0.01574394\n",
            " 0.01095933 0.00955888 0.023119   0.01779398 0.02291123 0.01653042\n",
            " 0.01992916 0.02062179 0.02095819 0.011022   0.01092072 0.01353323\n",
            " 0.02123578 0.02512628 0.01561917 0.00975799 0.0259745  0.02271357\n",
            " 0.00825123 0.01626798 0.02169931 0.01921198 0.02546502 0.00646993]\n",
            "RFE feature ranking and feature support:\n",
            "[ 1  1  1 24  1  1 13  1  1  1  9  1  1  1  1  1  1  1  7 23 19  1  1 10\n",
            "  5  1  1 15 25  1 21 20  1 14  6  1 11 12  2 22  1  4  3 18 16 17  8  1]\n",
            "[ True  True  True False  True  True False  True  True  True False  True\n",
            "  True  True  True  True  True  True False False False  True  True False\n",
            " False  True  True False False  True False False  True False False  True\n",
            " False False False False  True False False False False False False  True]\n"
          ],
          "name": "stdout"
        }
      ]
    },
    {
      "metadata": {
        "id": "zmHRBzf_mKfO",
        "colab_type": "code",
        "colab": {}
      },
      "cell_type": "code",
      "source": [
        "import scipy.stats as stat\n",
        "\n",
        "def get_pvalues(model): # stolen calculation :) \n",
        "  denom = (2.0*(1.0+np.cosh(model.decision_function(X))))\n",
        "  denom = np.tile(denom,(X.shape[1],1)).T\n",
        "  F_ij = np.dot((X/denom).T,X) ## Fisher Information Matrix\n",
        "  Cramer_Rao = np.linalg.inv(F_ij) ## Inverse Information Matrix\n",
        "  sigma_estimates = np.sqrt(np.diagonal(Cramer_Rao))\n",
        "  z_scores = model.coef_[0]/sigma_estimates # z-score for each model coefficient\n",
        "  p_values = [stat.norm.sf(abs(x))*2 for x in z_scores] ### two tailed test for p-values\n",
        "  return p_values"
      ],
      "execution_count": 0,
      "outputs": []
    },
    {
      "metadata": {
        "id": "Euyip3vHC7QU",
        "colab_type": "code",
        "colab": {
          "base_uri": "https://localhost:8080/",
          "height": 2723
        },
        "outputId": "401ead41-bc28-4a47-c060-3e6bc58fe180"
      },
      "cell_type": "code",
      "source": [
        "## different potential linear models:\n",
        "\n",
        "from sklearn.linear_model import LassoCV, LogisticRegression\n",
        "from statsmodels.genmod.generalized_linear_model import GLM\n",
        "from statsmodels.genmod.families.family import Binomial\n",
        "from statsmodels.discrete.discrete_model import Logit\n",
        "\n",
        "sk_logit = LogisticRegression(solver='lbfgs',C=1e9) #high c -> very low additional regularization\n",
        "sk_logit.fit(X,Y)\n",
        "sk_logit_res = sk_logit.predict_proba(X)\n",
        "print('sklearn logistic regression: ')\n",
        "print('intercept: ')\n",
        "print(sk_logit.intercept_)\n",
        "print('coefficients: ')\n",
        "print(sk_logit.coef_)\n",
        "print('p-values')\n",
        "print(get_pvalues(sk_logit))\n",
        "\n",
        "\n",
        "sk_lasso = LassoCV(cv=3)\n",
        "sk_lasso.fit(X,Y)\n",
        "sk_lasso_res = sk_lasso.predict(X)\n",
        "print('sklearn lasso regression: ')\n",
        "print('intercept: ')\n",
        "print(sk_lasso.intercept_)\n",
        "print('coefficients: ')\n",
        "print(sk_lasso.coef_)\n",
        "\n",
        "\n",
        "sm_logit = Logit(Y,X)\n",
        "sm_logit = sm_logit.fit()\n",
        "print(sm_logit.summary2())\n",
        "sm_logit_res = sm_logit.predict(X)\n",
        "\n",
        "\n",
        "sm_glm = GLM(Y,X,family = Binomial())\n",
        "sm_glm_fitted = sm_glm.fit()\n",
        "print(sm_glm_fitted.summary2())\n",
        "sm_glm_res = sm_glm_fitted.predict(X)"
      ],
      "execution_count": 64,
      "outputs": [
        {
          "output_type": "stream",
          "text": [
            "sklearn logistic regression: \n",
            "intercept: \n",
            "[1.13757216]\n",
            "coefficients: \n",
            "[[ 1.89558059  2.33001555  0.98993492  0.01425502 -0.81364644  0.81653033\n",
            "   0.26463334 -0.37483924 -0.96569333 -1.71193823  0.14378134 -0.58590873\n",
            "  -0.85306126 -1.43559846 -1.666512   -1.48947959 -0.79162508 -0.89163419\n",
            "  -0.5233122  -0.21610595  0.03638149 -2.05920834 -0.7400619  -0.35769046\n",
            "  -0.37593298 -1.33942756 -0.94657441 -0.06722733 -0.18321139 -0.83139407\n",
            "  -0.27700138 -0.27509956 -0.8157662  -0.36670088  0.43624456 -0.97881515\n",
            "   0.28148474  0.19457584  0.73030608 -0.12328744 -0.64630444 -0.44358581\n",
            "  -0.68366192  0.5379072   0.55656186  0.48144818 -0.30006354 -1.3919803 ]]\n",
            "p-values\n",
            "[0.002697439483577784, 0.003754128156272693, 0.00017628537674907018, 0.9558828637574409, 0.10831228368738545, 0.14308642067589808, 0.2882645215779359, 0.08245119478534794, 0.008461521143280436, 1.6276229167618857e-13, 0.7737134083491005, 0.12405123062310902, 0.05422739927666897, 0.00037339536310897615, 8.371043779482442e-06, 0.054163675802626876, 0.002163757463545777, 0.00029986956023104675, 0.49182324118407206, 0.6929495000156445, 0.9268654764617095, 0.0892117803210972, 0.0234903161120534, 0.2111869330767694, 0.3475321133016107, 0.010657863398453257, 0.00030695487296552784, 0.8730280673402846, 0.6517146807666141, 0.06067628035824035, 0.5015243121140522, 0.432503284097289, 0.020563978851714293, 0.38733160233451036, 0.28745338598709835, 0.021021183186987154, 0.26418041174385587, 0.4059793421351928, 0.08371745397172625, 0.7642501207480892, 0.005181185353959653, 0.05430831158841146, 0.15165022711596504, 0.36951074651872073, 0.3282107469774601, 0.40530155796015854, 0.13567802907413948, 0.025514399690596892]\n",
            "sklearn lasso regression: \n",
            "intercept: \n",
            "0.6092461038410435\n",
            "coefficients: \n",
            "[ 0.308984    0.26525911  0.11633027 -0.         -0.06568716  0.0504315\n",
            "  0.0196846  -0.07289592 -0.16989038 -0.27047929  0.02878437 -0.08589626\n",
            " -0.10647004 -0.18351607 -0.18244937 -0.08019066 -0.07480686 -0.09960011\n",
            " -0.         -0.          0.02784253 -0.0634995  -0.05482469 -0.01950097\n",
            " -0.05872694 -0.11576108 -0.11159317  0.02892988  0.         -0.07783188\n",
            " -0.01658023  0.         -0.06938661 -0.02426208  0.04221846 -0.13760766\n",
            "  0.02580203  0.02436793  0.07665434  0.         -0.07577333 -0.05976306\n",
            " -0.05136741 -0.          0.00923869  0.         -0.03749938 -0.10565134]\n",
            "Optimization terminated successfully.\n",
            "         Current function value: inf\n",
            "         Iterations 7\n"
          ],
          "name": "stdout"
        },
        {
          "output_type": "stream",
          "text": [
            "/usr/local/lib/python3.6/dist-packages/statsmodels/discrete/discrete_model.py:1214: RuntimeWarning: overflow encountered in exp\n",
            "  return 1/(1+np.exp(-X))\n",
            "/usr/local/lib/python3.6/dist-packages/statsmodels/discrete/discrete_model.py:1264: RuntimeWarning: divide by zero encountered in log\n",
            "  return np.sum(np.log(self.cdf(q*np.dot(X,params))))\n"
          ],
          "name": "stderr"
        },
        {
          "output_type": "stream",
          "text": [
            "                          Results: Logit\n",
            "==================================================================\n",
            "Model:              Logit            No. Iterations:   7.0000     \n",
            "Dependent Variable: 20_2             Pseudo R-squared: -inf       \n",
            "Date:               2019-02-21 10:47 AIC:              inf        \n",
            "No. Observations:   1000             BIC:              inf        \n",
            "Df Model:           47               Log-Likelihood:   -inf       \n",
            "Df Residuals:       952              LL-Null:          -1.5160e+05\n",
            "Converged:          1.0000           Scale:            1.0000     \n",
            "--------------------------------------------------------------------\n",
            "            Coef.    Std.Err.      z      P>|z|     [0.025    0.975]\n",
            "--------------------------------------------------------------------\n",
            "1           1.9264     0.6340    3.0387   0.0024    0.6839    3.1690\n",
            "4           2.4236     0.8083    2.9984   0.0027    0.8394    4.0079\n",
            "7           1.0180     0.2639    3.8569   0.0001    0.5007    1.5353\n",
            "10          0.0479     0.2574    0.1862   0.8523   -0.4566    0.5525\n",
            "12         -0.6949     0.5051   -1.3759   0.1689   -1.6849    0.2950\n",
            "15          0.9530     0.5567    1.7119   0.0869   -0.1381    2.0440\n",
            "17          0.2701     0.2490    1.0850   0.2779   -0.2178    0.7581\n",
            "0_A12      -0.3395     0.2157   -1.5740   0.1155   -0.7623    0.0832\n",
            "0_A13      -0.9168     0.3659   -2.5052   0.0122   -1.6340   -0.1995\n",
            "0_A14      -1.7064     0.2323   -7.3468   0.0000   -2.1616   -1.2511\n",
            "2_A31       0.4155     0.4993    0.8321   0.4053   -0.5632    1.3941\n",
            "2_A32      -0.3488     0.3819   -0.9134   0.3611   -1.0973    0.3997\n",
            "2_A33      -0.6626     0.4420   -1.4991   0.1339   -1.5289    0.2037\n",
            "2_A34      -1.2298     0.4035   -3.0482   0.0023   -2.0206   -0.4391\n",
            "3_A41      -1.6505     0.3750   -4.4019   0.0000   -2.3854   -0.9156\n",
            "3_A410     -1.4112     0.7781   -1.8138   0.0697   -2.9362    0.1137\n",
            "3_A42      -0.7459     0.2580   -2.8914   0.0038   -1.2515   -0.2403\n",
            "3_A43      -0.8745     0.2464   -3.5495   0.0004   -1.3573   -0.3916\n",
            "3_A44      -0.4723     0.7557   -0.6249   0.5320   -1.9535    1.0090\n",
            "3_A45      -0.1504     0.5445   -0.2762   0.7824   -1.2176    0.9168\n",
            "3_A46       0.0487     0.3957    0.1232   0.9020   -0.7268    0.8242\n",
            "3_A48      -2.0280     1.2090   -1.6775   0.0934   -4.3975    0.3415\n",
            "3_A49      -0.6578     0.3262   -2.0164   0.0438   -1.2972   -0.0184\n",
            "5_A62      -0.3567     0.2864   -1.2457   0.2129   -0.9180    0.2045\n",
            "5_A63      -0.3457     0.4001   -0.8642   0.3875   -1.1299    0.4384\n",
            "5_A64      -1.3666     0.5251   -2.6025   0.0093   -2.3959   -0.3374\n",
            "5_A65      -0.9361     0.2618   -3.5763   0.0003   -1.4492   -0.4231\n",
            "6_A72       0.0239     0.4206    0.0569   0.9547   -0.8005    0.8484\n",
            "6_A73      -0.1071     0.4058   -0.2638   0.7919   -0.9025    0.6883\n",
            "6_A74      -0.7760     0.4432   -1.7508   0.0800   -1.6446    0.0927\n",
            "6_A75      -0.2355     0.4121   -0.5713   0.5678   -1.0433    0.5723\n",
            "8_A92      -0.0776     0.3528   -0.2201   0.8258   -0.7691    0.6138\n",
            "8_A93      -0.6441     0.3552   -1.8135   0.0698   -1.3403    0.0520\n",
            "8_A94      -0.1720     0.4266   -0.4032   0.6868   -1.0082    0.6642\n",
            "9_A102      0.4334     0.4098    1.0576   0.2903   -0.3698    1.2367\n",
            "9_A103     -0.9686     0.4229   -2.2904   0.0220   -1.7975   -0.1397\n",
            "11_A122     0.3112     0.2520    1.2351   0.2168   -0.1826    0.8050\n",
            "11_A123     0.2298     0.2342    0.9812   0.3265   -0.2292    0.6887\n",
            "11_A124     0.7853     0.4218    1.8615   0.0627   -0.0415    1.6120\n",
            "13_A142    -0.0913     0.4111   -0.2220   0.8243   -0.8970    0.7145\n",
            "13_A143    -0.5726     0.2316   -2.4724   0.0134   -1.0266   -0.1187\n",
            "14_A152    -0.3913     0.2308   -1.6953   0.0900   -0.8438    0.0611\n",
            "14_A153    -0.6723     0.4778   -1.4072   0.1594   -1.6087    0.2641\n",
            "16_A172     0.9381     0.6092    1.5397   0.1236   -0.2560    2.1322\n",
            "16_A173     0.9614     0.5792    1.6598   0.0969   -0.1738    2.0967\n",
            "16_A174     0.8853     0.5908    1.4983   0.1340   -0.2728    2.0433\n",
            "18_A192    -0.3110     0.2010   -1.5471   0.1218   -0.7051    0.0830\n",
            "19_A202    -1.3278     0.6199   -2.1420   0.0322   -2.5428   -0.1128\n",
            "==================================================================\n",
            "\n",
            "               Results: Generalized linear model\n",
            "===============================================================\n",
            "Model:              GLM              AIC:            993.2988  \n",
            "Link Function:      logit            BIC:            -5678.8842\n",
            "Dependent Variable: 20_2             Log-Likelihood: -448.65   \n",
            "Date:               2019-02-21 10:47 LL-Null:        -610.86   \n",
            "No. Observations:   1000             Deviance:       897.30    \n",
            "Df Model:           47               Pearson chi2:   950.      \n",
            "Df Residuals:       952              Scale:          1.0000    \n",
            "Method:             IRLS                                       \n",
            "----------------------------------------------------------------\n",
            "             Coef.   Std.Err.     z     P>|z|    [0.025   0.975]\n",
            "----------------------------------------------------------------\n",
            "1            1.9264    0.6340   3.0387  0.0024   0.6839   3.1690\n",
            "4            2.4236    0.8083   2.9984  0.0027   0.8394   4.0079\n",
            "7            1.0180    0.2639   3.8569  0.0001   0.5007   1.5353\n",
            "10           0.0479    0.2574   0.1862  0.8523  -0.4566   0.5525\n",
            "12          -0.6949    0.5051  -1.3759  0.1689  -1.6849   0.2950\n",
            "15           0.9530    0.5567   1.7119  0.0869  -0.1381   2.0440\n",
            "17           0.2701    0.2490   1.0850  0.2779  -0.2178   0.7581\n",
            "0_A12       -0.3395    0.2157  -1.5740  0.1155  -0.7623   0.0832\n",
            "0_A13       -0.9168    0.3659  -2.5052  0.0122  -1.6340  -0.1995\n",
            "0_A14       -1.7064    0.2323  -7.3468  0.0000  -2.1616  -1.2511\n",
            "2_A31        0.4155    0.4993   0.8321  0.4053  -0.5632   1.3941\n",
            "2_A32       -0.3488    0.3819  -0.9134  0.3611  -1.0973   0.3997\n",
            "2_A33       -0.6626    0.4420  -1.4991  0.1339  -1.5289   0.2037\n",
            "2_A34       -1.2298    0.4035  -3.0482  0.0023  -2.0206  -0.4391\n",
            "3_A41       -1.6505    0.3750  -4.4019  0.0000  -2.3854  -0.9156\n",
            "3_A410      -1.4112    0.7781  -1.8138  0.0697  -2.9362   0.1137\n",
            "3_A42       -0.7459    0.2580  -2.8914  0.0038  -1.2515  -0.2403\n",
            "3_A43       -0.8745    0.2464  -3.5495  0.0004  -1.3573  -0.3916\n",
            "3_A44       -0.4723    0.7557  -0.6249  0.5320  -1.9535   1.0090\n",
            "3_A45       -0.1504    0.5445  -0.2762  0.7824  -1.2176   0.9168\n",
            "3_A46        0.0487    0.3957   0.1232  0.9020  -0.7268   0.8242\n",
            "3_A48       -2.0280    1.2090  -1.6775  0.0934  -4.3975   0.3415\n",
            "3_A49       -0.6578    0.3262  -2.0164  0.0438  -1.2972  -0.0184\n",
            "5_A62       -0.3567    0.2864  -1.2457  0.2129  -0.9180   0.2045\n",
            "5_A63       -0.3457    0.4001  -0.8642  0.3875  -1.1299   0.4384\n",
            "5_A64       -1.3666    0.5251  -2.6025  0.0093  -2.3959  -0.3374\n",
            "5_A65       -0.9361    0.2618  -3.5763  0.0003  -1.4492  -0.4231\n",
            "6_A72        0.0239    0.4206   0.0569  0.9547  -0.8005   0.8484\n",
            "6_A73       -0.1071    0.4058  -0.2638  0.7919  -0.9025   0.6883\n",
            "6_A74       -0.7760    0.4432  -1.7508  0.0800  -1.6446   0.0927\n",
            "6_A75       -0.2355    0.4121  -0.5713  0.5678  -1.0433   0.5723\n",
            "8_A92       -0.0776    0.3528  -0.2201  0.8258  -0.7691   0.6138\n",
            "8_A93       -0.6441    0.3552  -1.8135  0.0698  -1.3403   0.0520\n",
            "8_A94       -0.1720    0.4266  -0.4032  0.6868  -1.0082   0.6642\n",
            "9_A102       0.4334    0.4098   1.0576  0.2903  -0.3698   1.2367\n",
            "9_A103      -0.9686    0.4229  -2.2904  0.0220  -1.7975  -0.1397\n",
            "11_A122      0.3112    0.2520   1.2351  0.2168  -0.1826   0.8050\n",
            "11_A123      0.2298    0.2342   0.9812  0.3265  -0.2292   0.6887\n",
            "11_A124      0.7853    0.4218   1.8615  0.0627  -0.0415   1.6120\n",
            "13_A142     -0.0913    0.4111  -0.2220  0.8243  -0.8970   0.7145\n",
            "13_A143     -0.5726    0.2316  -2.4724  0.0134  -1.0266  -0.1187\n",
            "14_A152     -0.3913    0.2308  -1.6953  0.0900  -0.8438   0.0611\n",
            "14_A153     -0.6723    0.4778  -1.4072  0.1594  -1.6087   0.2641\n",
            "16_A172      0.9381    0.6092   1.5397  0.1236  -0.2560   2.1322\n",
            "16_A173      0.9614    0.5792   1.6598  0.0969  -0.1738   2.0967\n",
            "16_A174      0.8853    0.5908   1.4983  0.1340  -0.2728   2.0433\n",
            "18_A192     -0.3110    0.2010  -1.5471  0.1218  -0.7051   0.0830\n",
            "19_A202     -1.3278    0.6199  -2.1420  0.0322  -2.5428  -0.1128\n",
            "===============================================================\n",
            "\n"
          ],
          "name": "stdout"
        }
      ]
    },
    {
      "metadata": {
        "id": "FK6NdS_nasHd",
        "colab_type": "text"
      },
      "cell_type": "markdown",
      "source": [
        "### Accuracy"
      ]
    },
    {
      "metadata": {
        "id": "fAkyW4BUazfE",
        "colab_type": "code",
        "colab": {}
      },
      "cell_type": "code",
      "source": [
        "# Confusion matrices and acc\n",
        "from sklearn.metrics import confusion_matrix"
      ],
      "execution_count": 0,
      "outputs": []
    },
    {
      "metadata": {
        "id": "70YGX80PayOf",
        "colab_type": "text"
      },
      "cell_type": "markdown",
      "source": [
        "### ROC"
      ]
    },
    {
      "metadata": {
        "id": "GcrTRVWWo0EF",
        "colab_type": "code",
        "colab": {
          "base_uri": "https://localhost:8080/",
          "height": 415
        },
        "outputId": "76f53a42-6e12-4014-d3bb-aa08140340db"
      },
      "cell_type": "code",
      "source": [
        "\n",
        "\n",
        "\n",
        "# ROC\n",
        "from sklearn.metrics import roc_curve\n",
        "#\n",
        "for i in [sk_logit_res[:,1],sk_lasso_res,sm_logit_res,sm_glm_res]:\n",
        "  print(i.shape)\n",
        "  fpr,tpr,thresholds = roc_curve(Y,i)\n",
        "  plt.plot(fpr,tpr)"
      ],
      "execution_count": 78,
      "outputs": [
        {
          "output_type": "stream",
          "text": [
            "(1000,)\n",
            "(1000,)\n",
            "(1000,)\n",
            "(1000,)\n"
          ],
          "name": "stdout"
        },
        {
          "output_type": "display_data",
          "data": {
            "image/png": "[encoded data removed]",
            "text/plain": [
              "<Figure size 576x396 with 1 Axes>"
            ]
          },
          "metadata": {
            "tags": []
          }
        }
      ]
    },
    {
      "metadata": {
        "id": "bMh_mProtzYh",
        "colab_type": "text"
      },
      "cell_type": "markdown",
      "source": [
        "## Non-linear model"
      ]
    },
    {
      "metadata": {
        "id": "DNXlUYuhuKnA",
        "colab_type": "code",
        "colab": {}
      },
      "cell_type": "code",
      "source": [
        "# xgboost\n",
        "\n",
        "# random forest\n",
        "\n",
        "# variable importance\n",
        "\n",
        "# roc + acc"
      ],
      "execution_count": 0,
      "outputs": []
    },
    {
      "metadata": {
        "id": "_1TqRi3ItKei",
        "colab_type": "text"
      },
      "cell_type": "markdown",
      "source": [
        "## Aequitas / Nikitquitas"
      ]
    },
    {
      "metadata": {
        "id": "j9p6dRzbFYyC",
        "colab_type": "code",
        "colab": {}
      },
      "cell_type": "code",
      "source": [
        "# Attribute 9: (qualitative) \n",
        "# Personal status and sex \n",
        "# A91 : male : divorced/separated \n",
        "# A92 : female : divorced/separated/married \n",
        "# A93 : male : single \n",
        "# A94 : male : married/widowed \n",
        "# A95 : female : single \n",
        "\n",
        "schufa_f = X['8_A92']==1 # | X['8_A95']==1 # second one has been removed because not generated\n",
        "schufa_m = ~schufa_f # ~ logical not / inversion\n",
        "\n",
        "groups = [schufa_m,schufa_f]"
      ],
      "execution_count": 0,
      "outputs": []
    },
    {
      "metadata": {
        "id": "rGS8nXPNIbCe",
        "colab_type": "code",
        "colab": {}
      },
      "cell_type": "code",
      "source": [
        "Y_hat = sk_logit_res[:,1].copy()\n",
        "Y_hat_binary = (Y_hat >= .5).astype(np.int64)"
      ],
      "execution_count": 0,
      "outputs": []
    },
    {
      "metadata": {
        "id": "2Q4LVGFZtMdt",
        "colab_type": "code",
        "colab": {}
      },
      "cell_type": "code",
      "source": [
        "### sort such that the first group is always baseline -> i.e. set caucasian to be first group maybe?\n",
        "\n",
        "## TODO: Check if this is working correctly by using the aequitas test dataset!\n",
        "class bias_audit():\n",
        "  \n",
        "    def safe_divide(self,x,y):\n",
        "      if y == 0:\n",
        "        return 1\n",
        "      return x/y\n",
        "\n",
        "    # disparate impact\n",
        "    def disp_impact(self):\n",
        "      baseline_group = np.mean(self.y_hat[groups[0]])\n",
        "      return [np.divide(np.mean(self.y_hat[i]) ,baseline_group) for i in groups]\n",
        "\n",
        "    # demographic parity\n",
        "    def dem_parity(self):\n",
        "      baseline_group = np.mean(self.y_hat[groups[0]])\n",
        "      return [1- np.mean(self.y_hat[i])-baseline_group for i in groups]\n",
        "\n",
        "    # overall function for all rate parities:\n",
        "    def rate_parity(self,v1,v2):\n",
        "      fp = np.logical_and(self.y==v1, self.y_hat==v2)\n",
        "      fpr1 = np.sum(np.logical_and(fp, groups[0]))/np.sum(np.logical_and(self.y==v1, groups[0]))\n",
        "      return [self.safe_divide(np.sum(np.logical_and(fp, i)) / np.sum(np.logical_and(self.y==v2, i)),fpr1) for i in groups]\n",
        "\n",
        "    # fpr parity\n",
        "    def fpr_parity(self):\n",
        "      return self.rate_parity(0,1)\n",
        "\n",
        "    # fnr parity\n",
        "    def fnr_parity(self):\n",
        "      return self.rate_parity(1,0)\n",
        "\n",
        "    # ppv parity\n",
        "    def ppv_parity(self):\n",
        "      return self.rate_parity(1,1)\n",
        "\n",
        "    # npv parity\n",
        "    def npv_parity(self):\n",
        "      return self.rate_parity(0,0)\n",
        "\n",
        "    # acc parity\n",
        "    def acc_parity(self):\n",
        "      ac1 = np.sum(self.y[groups[0]]==self.y_hat[groups[0]]) / np.sum(self.y[groups[0]])\n",
        "      return [self.safe_divide(np.sum(self.y[i] == self.y_hat[i])/np.sum(self.y[i]),ac1) for i in groups]\n",
        "\n",
        "    def create_audit(self):\n",
        "      names = ['disparate impact','demographic parity','fpr parity','fnr parity','ppv parity','npv parity','accuracy parity']\n",
        "      return pd.DataFrame(np.column_stack((self.disp_impact(),self.dem_parity(),\n",
        "                                    self.fpr_parity(),self.fnr_parity(),\n",
        "                                    self.ppv_parity(),self.npv_parity(),\n",
        "                                    self.acc_parity())),columns=names)\n",
        "    \n",
        "    def __init__(self,y,y_hat,groups):\n",
        "      self.y = y\n",
        "      self.y_hat = y_hat\n",
        "      self.groups = groups\n",
        "      self.audit = self.create_audit()\n",
        "      print(self.audit)\n",
        "      \n",
        "  \n",
        "  "
      ],
      "execution_count": 0,
      "outputs": []
    },
    {
      "metadata": {
        "id": "qRb8tAd6Itqp",
        "colab_type": "code",
        "colab": {
          "base_uri": "https://localhost:8080/",
          "height": 153
        },
        "outputId": "c52574bc-8b7a-43ab-df97-a8532172b245"
      },
      "cell_type": "code",
      "source": [
        "bias_audit(Y,Y_hat_binary,groups)"
      ],
      "execution_count": 144,
      "outputs": [
        {
          "output_type": "stream",
          "text": [
            "   disparate impact  demographic parity  fpr parity  fnr parity  ppv parity  \\\n",
            "0           1.00000            0.605797    2.612565    0.382766    1.000000   \n",
            "1           1.60389            0.486770    2.950255    0.380100    1.328662   \n",
            "\n",
            "   npv parity  accuracy parity  \n",
            "0     1.00000         1.000000  \n",
            "1     0.94054         0.774867  \n"
          ],
          "name": "stdout"
        },
        {
          "output_type": "execute_result",
          "data": {
            "text/plain": [
              "<__main__.bias_audit at 0x7fee1cca06a0>"
            ]
          },
          "metadata": {
            "tags": []
          },
          "execution_count": 144
        }
      ]
    },
    {
      "metadata": {
        "id": "gsQVx6WTt4-N",
        "colab_type": "text"
      },
      "cell_type": "markdown",
      "source": [
        "## Predicting protected attributes"
      ]
    },
    {
      "metadata": {
        "id": "LzZwC1LUt8eT",
        "colab_type": "code",
        "colab": {}
      },
      "cell_type": "code",
      "source": [
        ""
      ],
      "execution_count": 0,
      "outputs": []
    },
    {
      "metadata": {
        "id": "xKqirlxi1wJ5",
        "colab_type": "code",
        "colab": {}
      },
      "cell_type": "code",
      "source": [
        "# TODO:\n",
        "# SCHUFA ATTR 7+10 are not actually numerical but also categorical!!!\n",
        "# SQF predict multinomial -> 10 classes!\n",
        "\n",
        "\n",
        "\n",
        "\n",
        "#### AEQUITAS\n",
        "\n",
        "\n",
        "#### FULL LOGIT OUTPUT mit stats package (forward selection???)\n",
        "# Variable importance (mit intercept)\n",
        "# Signifikanz\n",
        "# Koeffizienten\n",
        "# Acc?\n",
        "\n",
        "# ROC + (PORvsScoreDecile)\n",
        "\n",
        "#### Non-linear model mit möglichst vielen informationen\n",
        "# RF /XGB, vielleicht beide?\n",
        "\n",
        "#### Rückschlüsse auf original informationen (aka, predict orignal protected variables)\n",
        "# "
      ],
      "execution_count": 0,
      "outputs": []
    }
  ]
}