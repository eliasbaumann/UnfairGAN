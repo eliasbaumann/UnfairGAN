{
  "nbformat": 4,
  "nbformat_minor": 0,
  "metadata": {
    "colab": {
      "name": "UnfairGAN.ipynb",
      "version": "0.3.2",
      "provenance": []
    },
    "kernelspec": {
      "name": "python3",
      "display_name": "Python 3"
    },
    "accelerator": "TPU"
  },
  "cells": [
    {
      "metadata": {
        "id": "RZuay_TobT13",
        "colab_type": "code",
        "colab": {}
      },
      "cell_type": "code",
      "source": [
        "import numpy as np\n",
        "import matplotlib.pyplot as plt\n",
        "import pandas as pd\n",
        "\n",
        "# you can find all datasets at: http://fairness-measures.org/Pages/Datasets\n",
        "\n",
        "raw_compas = pd.read_csv(\"https://raw.githubusercontent.com/propublica/compas-analysis/master/compas-scores.csv\")\n",
        "raw_sqf = pd.read_csv(\"https://www1.nyc.gov/assets/nypd/downloads/excel/analysis_and_planning/stop-question-frisk/sqf-2017.csv\")\n",
        "raw_schufa = pd.read_csv(\"https://archive.ics.uci.edu/ml/machine-learning-databases/statlog/german/german.data\",sep=' ',header=None)"
      ],
      "execution_count": 0,
      "outputs": []
    },
    {
      "metadata": {
        "id": "FniMTtZgvSLK",
        "colab_type": "code",
        "colab": {}
      },
      "cell_type": "code",
      "source": [
        "raw_compas_simon = pd.read_csv(\"https://raw.githubusercontent.com/MilkaLichtblau/BA_Simon/master/Simons_Arbeit/COMPAS/COMPAS.csv\")"
      ],
      "execution_count": 0,
      "outputs": []
    },
    {
      "metadata": {
        "id": "M1RaOnASNbBp",
        "colab_type": "code",
        "colab": {}
      },
      "cell_type": "code",
      "source": [
        "compas_cat = raw_compas_simon.select_dtypes('object').columns\n",
        "raw_compas_simon[compas_cat] = raw_compas_simon[compas_cat].apply(lambda x: x.astype('category'))\n",
        "\n",
        "raw_compas_simon[compas_cat] = raw_compas_simon[compas_cat].apply(lambda x: x.cat.codes)"
      ],
      "execution_count": 0,
      "outputs": []
    },
    {
      "metadata": {
        "id": "b6OQyqUnaIKN",
        "colab_type": "code",
        "outputId": "93b3d1ed-32f6-4270-98bd-b9999f7251a0",
        "colab": {
          "base_uri": "https://localhost:8080/",
          "height": 34
        }
      },
      "cell_type": "code",
      "source": [
        "X_train = raw_compas_simon\n",
        "X_train.shape"
      ],
      "execution_count": 0,
      "outputs": [
        {
          "output_type": "execute_result",
          "data": {
            "text/plain": [
              "(7214, 6)"
            ]
          },
          "metadata": {
            "tags": []
          },
          "execution_count": 4
        }
      ]
    },
    {
      "metadata": {
        "id": "XlW45Tc__13l",
        "colab_type": "code",
        "colab": {}
      },
      "cell_type": "code",
      "source": [
        "X_train_race = pd.get_dummies(X_train['race'],prefix=\"race\")\n",
        "X_train_sex = pd.get_dummies(X_train['sex'],prefix=\"sex\")\n",
        "X_train_age_cat = pd.get_dummies(X_train['age_cat'],prefix=\"age_cat\")\n",
        "\n",
        "X_train_onehot = pd.concat([X_train_race,X_train_sex,X_train_age_cat],axis=1).values\n"
      ],
      "execution_count": 0,
      "outputs": []
    },
    {
      "metadata": {
        "id": "ss_gqATiY43Z",
        "colab_type": "code",
        "outputId": "6a5024cb-5fc9-4840-dc0c-2bc4b3ef638a",
        "colab": {
          "base_uri": "https://localhost:8080/",
          "height": 34
        }
      },
      "cell_type": "code",
      "source": [
        "import tensorflow as tf\n",
        "\n",
        "\n",
        "\n",
        "from tensorflow.keras.layers import Input, Dense, BatchNormalization, Activation, concatenate\n",
        "from tensorflow.keras.layers.advanced_activations import LeakyReLU\n",
        "from tensorflow.keras.activations import softmax\n",
        "from from tensorflow.keras.models import Model\n",
        "from tensorflow.train import AdamOptimizer\n",
        "from keras.layers.merge import _Merge\n",
        "import keras.backend as K\n",
        "from functools import partial\n",
        "\n",
        "from numpy.random import seed\n",
        "seed(1)\n",
        "from tensorflow import set_random_seed\n",
        "set_random_seed(2)\n",
        "\n",
        "\n",
        "\n",
        "#TODO FOR DEBuGGIN PURPOSE\n",
        "cat_vector = [6,2,3]\n",
        "\n",
        "\n",
        "GRADIENT_PENALTY_WEIGHT = 10 \n",
        "BATCH_SIZE = 200\n",
        "TRAINING_RATIO = 5  # The training ratio is the number of discriminator updates per generator update. The paper uses 5.\n",
        "\n",
        "input_shape = X_train_onehot.shape[1:]\n",
        "\n",
        "def gradient_penalty_loss(y_true, y_pred, averaged_samples):\n",
        "        \"\"\"Gradient penalty loss to fullfil the 1-Liipschitz constraint of the Wasserstein distance\"\"\"\n",
        "        gradients = K.gradients(y_pred, averaged_samples)[0]\n",
        "        gradients_sqr = K.square(gradients)\n",
        "        gradients_sqr_sum = K.sum(gradients_sqr,axis=np.arange(1, len(gradients_sqr.shape)))\n",
        "        gradient_l2_norm = K.sqrt(gradients_sqr_sum)\n",
        "        gradient_penalty = GRADIENT_PENALTY_WEIGHT * K.square(1 - gradient_l2_norm)\n",
        "        return K.mean(gradient_penalty)\n",
        "\n",
        "def wasserstein_loss(y_true, y_pred):\n",
        "        \"\"\"Wasserstein distance as loss function.\"\"\"\n",
        "        return K.mean(y_true * y_pred)\n",
        "\n",
        "#from keras\n",
        "class RandomWeightedAverage(_Merge):\n",
        "    \"\"\"Takes a randomly-weighted average of two tensors. In geometric terms, this outputs a random point on the line\n",
        "    between each pair of input points.\n",
        "    Inheriting from _Merge is a little messy but it was the quickest solution I could think of.\n",
        "    Improvements appreciated.\"\"\"\n",
        "    def _merge_function(self, inputs):\n",
        "        weights = K.random_uniform((BATCH_SIZE, 1, 1, 1))\n",
        "        return (weights * inputs[0]) + ((1 - weights) * inputs[1])\n",
        "\n",
        "      \n",
        "      \n",
        "# could use gumbel softmax maybe?\n",
        "# not used right now:\n",
        "def sampling(logit,temp):\n",
        "  U = K.random_uniform(K.shape(logit),0,1)\n",
        "  y = logit - K.log(-K.log(U + 1e-20)+1e-20)\n",
        "  y = softmax(y / temp)\n",
        "\n",
        "# Define dimensions of network\n",
        "noise_size = 100\n",
        "gen_neurons = [256,512,512,768]\n",
        "disc_neurons = [512,256,256]\n",
        "\n",
        "# define generator\n",
        "# Required Batch Normalization to get to good generation faster\n",
        "gen_inp = Input(shape=(noise_size,))\n",
        "\n",
        "gen_hid_1 = Dense(gen_neurons[0])(gen_inp)\n",
        "gen_act_1 = LeakyReLU(alpha=0.2)(gen_hid_1)\n",
        "gen_norm_1 = BatchNormalization(momentum=0.8)(gen_act_1)\n",
        "\n",
        "gen_hid_2 = Dense(gen_neurons[1])(gen_norm_1)\n",
        "gen_act_2 = LeakyReLU(alpha=0.2)(gen_hid_2)\n",
        "gen_norm_2 = BatchNormalization(momentum=0.8)(gen_act_2)\n",
        "\n",
        "gen_hid_3 = Dense(gen_neurons[2])(gen_norm_2)\n",
        "gen_act_3 = LeakyReLU(alpha=0.2)(gen_hid_3)\n",
        "gen_norm_3 = BatchNormalization(momentum=0.8)(gen_act_3)\n",
        "\n",
        "gen_hid_4 = Dense(gen_neurons[3])(gen_norm_3)\n",
        "gen_act_4 = LeakyReLU(alpha=0.2)(gen_hid_4)\n",
        "gen_norm_4 = BatchNormalization(momentum=0.8)(gen_act_4)\n",
        "\n",
        "\n",
        "\n",
        "# Let i define number of classes, i = 0 -> relu\n",
        "def gen_out_creator(cat_vector,last_layer):\n",
        "  list_of_outputs = []\n",
        "  for i in cat_vector:\n",
        "    if(i>0):      \n",
        "      list_of_outputs.append(Dense(i,activation='softmax')(last_layer))\n",
        "    else:\n",
        "      list_of_outputs.append(Dense(1)(last_layer))\n",
        "  return list_of_outputs\n",
        "\n",
        "\n",
        "\n",
        "gen_outs = concatenate(gen_out_creator(cat_vector, gen_norm_4))\n",
        "\n",
        "#gen_hid_out = Dense(img_shape,activation='tanh')(gen_norm_3)\n",
        "\n",
        "\n",
        "#define discriminator\n",
        "disc_inp = Input(shape=input_shape) #Hard coded length for testing purpose\n",
        "disc_hid_1 = Dense(disc_neurons[0])(disc_inp)\n",
        "disc_act_1 = LeakyReLU(alpha=0.2)(disc_hid_1)\n",
        "disc_hid_2 = Dense(disc_neurons[1])(disc_act_1)\n",
        "disc_act_2 = LeakyReLU(alpha=0.2)(disc_hid_2)\n",
        "disc_hid_3 = Dense(disc_neurons[2])(disc_act_2)\n",
        "disc_act_3 = LeakyReLU(alpha=0.2)(disc_hid_3)\n",
        "disc_hid_out = Dense(1)(disc_act_3)\n",
        "\n",
        "gen = Model(inputs=gen_inp,outputs=gen_outs)\n",
        "disc = Model(disc_inp,disc_hid_out)\n",
        "\n",
        "for layer in disc.layers:\n",
        "  layer.trainable = False\n",
        "disc.trainable = False\n",
        "\n",
        "generator_input = Input(shape=(noise_size,))\n",
        "gen_layers = gen(generator_input)\n",
        "\n",
        "disc_layers_for_gen = disc(gen_layers)\n",
        "generator_model = Model(inputs=generator_input,outputs=disc_layers_for_gen)\n",
        "generator_model.compile(optimizer = Adam(0.0001, beta_1=0.5, beta_2=0.9), loss=wasserstein_loss)\n",
        "\n",
        "for layer in disc.layers:\n",
        "  layer.trainable = True\n",
        "disc.trainable = True\n",
        "for layer in gen.layers:\n",
        "  layer.trainable = False\n",
        "gen.trainable = False\n",
        "\n",
        "real_samples = Input(shape=input_shape) # Hard coded length :)\n",
        "noise_inp = Input(shape=(noise_size,))\n",
        "# redefine generator without trainable weights\n",
        "gen_samples_for_disc = gen(noise_inp)\n",
        "# need two different inputs for averaging stuff\n",
        "disc_out_from_gen = disc(gen_samples_for_disc)\n",
        "disc_out_from_real = disc(real_samples)\n",
        "\n",
        "avg_samples = RandomWeightedAverage()([real_samples,gen_samples_for_disc])\n",
        "avg_samp_out = disc(avg_samples)\n",
        "\n",
        "# partial loss for improved wgan stuff\n",
        "partial_loss = partial(gradient_penalty_loss,averaged_samples=avg_samples)\n",
        "partial_loss.__name__ = 'gradient_penalty'\n",
        "\n",
        "disc_model = Model(inputs=[real_samples,noise_inp],outputs=[disc_out_from_real,disc_out_from_gen,avg_samp_out])\n",
        "\n",
        "disc_model.compile(optimizer=Adam(0.0001, beta_1=0.5, beta_2=0.9), loss=[wasserstein_loss, wasserstein_loss, partial_loss])"
      ],
      "execution_count": 0,
      "outputs": [
        {
          "output_type": "stream",
          "text": [
            "Using TensorFlow backend.\n"
          ],
          "name": "stderr"
        }
      ]
    },
    {
      "metadata": {
        "id": "7jN9F3L9eOjH",
        "colab_type": "code",
        "outputId": "5afdf945-a6e6-4ebf-cc84-f6af90609942",
        "colab": {
          "base_uri": "https://localhost:8080/",
          "height": 1075
        }
      },
      "cell_type": "code",
      "source": [
        "import matplotlib.pyplot as plt\n",
        "from IPython.display import clear_output\n",
        "\n",
        "\n",
        "\n",
        "def generateDist(gen,train):\n",
        "  samples = gen.predict(np.random.rand(7000,100))\n",
        "  sample_vars = []\n",
        "  idx = 0\n",
        "  for i in cat_vector:\n",
        "    sample_vars.append()\n",
        "    y = pd.get_dummies()\n",
        "    if(i>0):\n",
        "      x = np.array([np.random.choice(i,size=1,p=j) for j in samples[:,idx:i+idx]])\n",
        "      sample_vars.append(pd.get_dummies(x[:,0]))\n",
        "      idx=i+idx\n",
        "    else:\n",
        "      sample_vars.append(samples[:,idx:idx+1])\n",
        "      idx = idx+1\n",
        "  pd.concat(sample_vars,axis=1\n",
        "  plt.plot(np.sum(train[:,0:6],axis=0))\n",
        "  plt.plot(np.sum(sample_vars[0],axis=0))\n",
        "  plt.show()\n",
        "\n",
        "# Set training parameters\n",
        "\n",
        "epochs = 60\n",
        "\n",
        "positive_y = np.ones((BATCH_SIZE,1),dtype=np.float32)\n",
        "negative_y = -positive_y\n",
        "dummy_y = np.zeros((BATCH_SIZE,1),dtype=np.float32)\n",
        "\n",
        "for epoch in range(epochs):\n",
        "  np.random.shuffle(X_train_onehot)\n",
        "  disc_loss = []\n",
        "  gen_loss = []\n",
        "  minib_size = BATCH_SIZE*TRAINING_RATIO\n",
        "  for i in range(X_train_onehot.shape[0] // minib_size):\n",
        "    disc_minibatch = X_train_onehot[i*minib_size:(i+1)*minib_size]\n",
        "    for j in range(TRAINING_RATIO):\n",
        "      real_batch = disc_minibatch[j*BATCH_SIZE:(j+1)*BATCH_SIZE]\n",
        "      noise = np.random.rand(BATCH_SIZE,noise_size).astype(np.float32)\n",
        "      disc_loss.append(disc_model.train_on_batch([real_batch,noise],[positive_y,negative_y,dummy_y]))\n",
        "    gen_loss.append(generator_model.train_on_batch(np.random.rand(BATCH_SIZE,noise_size),positive_y))  \n",
        "    #print(gen_loss[-1])\n",
        "  if(((epoch/epochs)*100)%5==0):\n",
        "    clear_output()\n",
        "    print(epoch+1,\"/\",epochs,\" Epochs\")\n",
        "    generateDist(gen,X_train_onehot)"
      ],
      "execution_count": 0,
      "outputs": [
        {
          "output_type": "stream",
          "text": [
            "1 / 60  Epochs\n"
          ],
          "name": "stdout"
        },
        {
          "output_type": "display_data",
          "data": {
            "image/png": "[encoded data removed]",
            "text/plain": [
              "<matplotlib.figure.Figure at 0x7f98439eacf8>"
            ]
          },
          "metadata": {
            "tags": []
          }
        },
        {
          "output_type": "error",
          "ename": "KeyboardInterrupt",
          "evalue": "ignored",
          "traceback": [
            "\u001b[0;31m---------------------------------------------------------------------------\u001b[0m",
            "\u001b[0;31mKeyboardInterrupt\u001b[0m                         Traceback (most recent call last)",
            "\u001b[0;32m<ipython-input-7-f7d76dfff1f3>\u001b[0m in \u001b[0;36m<module>\u001b[0;34m()\u001b[0m\n\u001b[1;32m     42\u001b[0m       \u001b[0mreal_batch\u001b[0m \u001b[0;34m=\u001b[0m \u001b[0mdisc_minibatch\u001b[0m\u001b[0;34m[\u001b[0m\u001b[0mj\u001b[0m\u001b[0;34m*\u001b[0m\u001b[0mBATCH_SIZE\u001b[0m\u001b[0;34m:\u001b[0m\u001b[0;34m(\u001b[0m\u001b[0mj\u001b[0m\u001b[0;34m+\u001b[0m\u001b[0;36m1\u001b[0m\u001b[0;34m)\u001b[0m\u001b[0;34m*\u001b[0m\u001b[0mBATCH_SIZE\u001b[0m\u001b[0;34m]\u001b[0m\u001b[0;34m\u001b[0m\u001b[0;34m\u001b[0m\u001b[0m\n\u001b[1;32m     43\u001b[0m       \u001b[0mnoise\u001b[0m \u001b[0;34m=\u001b[0m \u001b[0mnp\u001b[0m\u001b[0;34m.\u001b[0m\u001b[0mrandom\u001b[0m\u001b[0;34m.\u001b[0m\u001b[0mrand\u001b[0m\u001b[0;34m(\u001b[0m\u001b[0mBATCH_SIZE\u001b[0m\u001b[0;34m,\u001b[0m\u001b[0mnoise_size\u001b[0m\u001b[0;34m)\u001b[0m\u001b[0;34m.\u001b[0m\u001b[0mastype\u001b[0m\u001b[0;34m(\u001b[0m\u001b[0mnp\u001b[0m\u001b[0;34m.\u001b[0m\u001b[0mfloat32\u001b[0m\u001b[0;34m)\u001b[0m\u001b[0;34m\u001b[0m\u001b[0;34m\u001b[0m\u001b[0m\n\u001b[0;32m---> 44\u001b[0;31m       \u001b[0mdisc_loss\u001b[0m\u001b[0;34m.\u001b[0m\u001b[0mappend\u001b[0m\u001b[0;34m(\u001b[0m\u001b[0mdisc_model\u001b[0m\u001b[0;34m.\u001b[0m\u001b[0mtrain_on_batch\u001b[0m\u001b[0;34m(\u001b[0m\u001b[0;34m[\u001b[0m\u001b[0mreal_batch\u001b[0m\u001b[0;34m,\u001b[0m\u001b[0mnoise\u001b[0m\u001b[0;34m]\u001b[0m\u001b[0;34m,\u001b[0m\u001b[0;34m[\u001b[0m\u001b[0mpositive_y\u001b[0m\u001b[0;34m,\u001b[0m\u001b[0mnegative_y\u001b[0m\u001b[0;34m,\u001b[0m\u001b[0mdummy_y\u001b[0m\u001b[0;34m]\u001b[0m\u001b[0;34m)\u001b[0m\u001b[0;34m)\u001b[0m\u001b[0;34m\u001b[0m\u001b[0;34m\u001b[0m\u001b[0m\n\u001b[0m\u001b[1;32m     45\u001b[0m     \u001b[0mgen_loss\u001b[0m\u001b[0;34m.\u001b[0m\u001b[0mappend\u001b[0m\u001b[0;34m(\u001b[0m\u001b[0mgenerator_model\u001b[0m\u001b[0;34m.\u001b[0m\u001b[0mtrain_on_batch\u001b[0m\u001b[0;34m(\u001b[0m\u001b[0mnp\u001b[0m\u001b[0;34m.\u001b[0m\u001b[0mrandom\u001b[0m\u001b[0;34m.\u001b[0m\u001b[0mrand\u001b[0m\u001b[0;34m(\u001b[0m\u001b[0mBATCH_SIZE\u001b[0m\u001b[0;34m,\u001b[0m\u001b[0mnoise_size\u001b[0m\u001b[0;34m)\u001b[0m\u001b[0;34m,\u001b[0m\u001b[0mpositive_y\u001b[0m\u001b[0;34m)\u001b[0m\u001b[0;34m)\u001b[0m\u001b[0;34m\u001b[0m\u001b[0;34m\u001b[0m\u001b[0m\n\u001b[1;32m     46\u001b[0m     \u001b[0;31m#print(gen_loss[-1])\u001b[0m\u001b[0;34m\u001b[0m\u001b[0;34m\u001b[0m\u001b[0;34m\u001b[0m\u001b[0m\n",
            "\u001b[0;32m/usr/local/lib/python3.6/dist-packages/keras/engine/training.py\u001b[0m in \u001b[0;36mtrain_on_batch\u001b[0;34m(self, x, y, sample_weight, class_weight)\u001b[0m\n\u001b[1;32m   1215\u001b[0m             \u001b[0mins\u001b[0m \u001b[0;34m=\u001b[0m \u001b[0mx\u001b[0m \u001b[0;34m+\u001b[0m \u001b[0my\u001b[0m \u001b[0;34m+\u001b[0m \u001b[0msample_weights\u001b[0m\u001b[0;34m\u001b[0m\u001b[0;34m\u001b[0m\u001b[0m\n\u001b[1;32m   1216\u001b[0m         \u001b[0mself\u001b[0m\u001b[0;34m.\u001b[0m\u001b[0m_make_train_function\u001b[0m\u001b[0;34m(\u001b[0m\u001b[0;34m)\u001b[0m\u001b[0;34m\u001b[0m\u001b[0;34m\u001b[0m\u001b[0m\n\u001b[0;32m-> 1217\u001b[0;31m         \u001b[0moutputs\u001b[0m \u001b[0;34m=\u001b[0m \u001b[0mself\u001b[0m\u001b[0;34m.\u001b[0m\u001b[0mtrain_function\u001b[0m\u001b[0;34m(\u001b[0m\u001b[0mins\u001b[0m\u001b[0;34m)\u001b[0m\u001b[0;34m\u001b[0m\u001b[0;34m\u001b[0m\u001b[0m\n\u001b[0m\u001b[1;32m   1218\u001b[0m         \u001b[0;32mreturn\u001b[0m \u001b[0munpack_singleton\u001b[0m\u001b[0;34m(\u001b[0m\u001b[0moutputs\u001b[0m\u001b[0;34m)\u001b[0m\u001b[0;34m\u001b[0m\u001b[0;34m\u001b[0m\u001b[0m\n\u001b[1;32m   1219\u001b[0m \u001b[0;34m\u001b[0m\u001b[0m\n",
            "\u001b[0;32m/usr/local/lib/python3.6/dist-packages/keras/backend/tensorflow_backend.py\u001b[0m in \u001b[0;36m__call__\u001b[0;34m(self, inputs)\u001b[0m\n\u001b[1;32m   2713\u001b[0m                 \u001b[0;32mreturn\u001b[0m \u001b[0mself\u001b[0m\u001b[0;34m.\u001b[0m\u001b[0m_legacy_call\u001b[0m\u001b[0;34m(\u001b[0m\u001b[0minputs\u001b[0m\u001b[0;34m)\u001b[0m\u001b[0;34m\u001b[0m\u001b[0;34m\u001b[0m\u001b[0m\n\u001b[1;32m   2714\u001b[0m \u001b[0;34m\u001b[0m\u001b[0m\n\u001b[0;32m-> 2715\u001b[0;31m             \u001b[0;32mreturn\u001b[0m \u001b[0mself\u001b[0m\u001b[0;34m.\u001b[0m\u001b[0m_call\u001b[0m\u001b[0;34m(\u001b[0m\u001b[0minputs\u001b[0m\u001b[0;34m)\u001b[0m\u001b[0;34m\u001b[0m\u001b[0;34m\u001b[0m\u001b[0m\n\u001b[0m\u001b[1;32m   2716\u001b[0m         \u001b[0;32melse\u001b[0m\u001b[0;34m:\u001b[0m\u001b[0;34m\u001b[0m\u001b[0;34m\u001b[0m\u001b[0m\n\u001b[1;32m   2717\u001b[0m             \u001b[0;32mif\u001b[0m \u001b[0mpy_any\u001b[0m\u001b[0;34m(\u001b[0m\u001b[0mis_tensor\u001b[0m\u001b[0;34m(\u001b[0m\u001b[0mx\u001b[0m\u001b[0;34m)\u001b[0m \u001b[0;32mfor\u001b[0m \u001b[0mx\u001b[0m \u001b[0;32min\u001b[0m \u001b[0minputs\u001b[0m\u001b[0;34m)\u001b[0m\u001b[0;34m:\u001b[0m\u001b[0;34m\u001b[0m\u001b[0;34m\u001b[0m\u001b[0m\n",
            "\u001b[0;32m/usr/local/lib/python3.6/dist-packages/keras/backend/tensorflow_backend.py\u001b[0m in \u001b[0;36m_call\u001b[0;34m(self, inputs)\u001b[0m\n\u001b[1;32m   2673\u001b[0m             \u001b[0mfetched\u001b[0m \u001b[0;34m=\u001b[0m \u001b[0mself\u001b[0m\u001b[0;34m.\u001b[0m\u001b[0m_callable_fn\u001b[0m\u001b[0;34m(\u001b[0m\u001b[0;34m*\u001b[0m\u001b[0marray_vals\u001b[0m\u001b[0;34m,\u001b[0m \u001b[0mrun_metadata\u001b[0m\u001b[0;34m=\u001b[0m\u001b[0mself\u001b[0m\u001b[0;34m.\u001b[0m\u001b[0mrun_metadata\u001b[0m\u001b[0;34m)\u001b[0m\u001b[0;34m\u001b[0m\u001b[0;34m\u001b[0m\u001b[0m\n\u001b[1;32m   2674\u001b[0m         \u001b[0;32melse\u001b[0m\u001b[0;34m:\u001b[0m\u001b[0;34m\u001b[0m\u001b[0;34m\u001b[0m\u001b[0m\n\u001b[0;32m-> 2675\u001b[0;31m             \u001b[0mfetched\u001b[0m \u001b[0;34m=\u001b[0m \u001b[0mself\u001b[0m\u001b[0;34m.\u001b[0m\u001b[0m_callable_fn\u001b[0m\u001b[0;34m(\u001b[0m\u001b[0;34m*\u001b[0m\u001b[0marray_vals\u001b[0m\u001b[0;34m)\u001b[0m\u001b[0;34m\u001b[0m\u001b[0;34m\u001b[0m\u001b[0m\n\u001b[0m\u001b[1;32m   2676\u001b[0m         \u001b[0;32mreturn\u001b[0m \u001b[0mfetched\u001b[0m\u001b[0;34m[\u001b[0m\u001b[0;34m:\u001b[0m\u001b[0mlen\u001b[0m\u001b[0;34m(\u001b[0m\u001b[0mself\u001b[0m\u001b[0;34m.\u001b[0m\u001b[0moutputs\u001b[0m\u001b[0;34m)\u001b[0m\u001b[0;34m]\u001b[0m\u001b[0;34m\u001b[0m\u001b[0;34m\u001b[0m\u001b[0m\n\u001b[1;32m   2677\u001b[0m \u001b[0;34m\u001b[0m\u001b[0m\n",
            "\u001b[0;32m/usr/local/lib/python3.6/dist-packages/tensorflow/python/client/session.py\u001b[0m in \u001b[0;36m__call__\u001b[0;34m(self, *args, **kwargs)\u001b[0m\n\u001b[1;32m   1437\u001b[0m           ret = tf_session.TF_SessionRunCallable(\n\u001b[1;32m   1438\u001b[0m               \u001b[0mself\u001b[0m\u001b[0;34m.\u001b[0m\u001b[0m_session\u001b[0m\u001b[0;34m.\u001b[0m\u001b[0m_session\u001b[0m\u001b[0;34m,\u001b[0m \u001b[0mself\u001b[0m\u001b[0;34m.\u001b[0m\u001b[0m_handle\u001b[0m\u001b[0;34m,\u001b[0m \u001b[0margs\u001b[0m\u001b[0;34m,\u001b[0m \u001b[0mstatus\u001b[0m\u001b[0;34m,\u001b[0m\u001b[0;34m\u001b[0m\u001b[0;34m\u001b[0m\u001b[0m\n\u001b[0;32m-> 1439\u001b[0;31m               run_metadata_ptr)\n\u001b[0m\u001b[1;32m   1440\u001b[0m         \u001b[0;32mif\u001b[0m \u001b[0mrun_metadata\u001b[0m\u001b[0;34m:\u001b[0m\u001b[0;34m\u001b[0m\u001b[0;34m\u001b[0m\u001b[0m\n\u001b[1;32m   1441\u001b[0m           \u001b[0mproto_data\u001b[0m \u001b[0;34m=\u001b[0m \u001b[0mtf_session\u001b[0m\u001b[0;34m.\u001b[0m\u001b[0mTF_GetBuffer\u001b[0m\u001b[0;34m(\u001b[0m\u001b[0mrun_metadata_ptr\u001b[0m\u001b[0;34m)\u001b[0m\u001b[0;34m\u001b[0m\u001b[0;34m\u001b[0m\u001b[0m\n",
            "\u001b[0;31mKeyboardInterrupt\u001b[0m: "
          ]
        }
      ]
    },
    {
      "metadata": {
        "id": "L6YnhSe5YUs3",
        "colab_type": "code",
        "colab": {}
      },
      "cell_type": "code",
      "source": [
        "# 300 epochs did not get me anywhere\n",
        "# Batch size 300 neither\n",
        "\n",
        "import tensorflow as tf\n",
        "samples = gen.predict(np.random.rand(7000,100))\n",
        "\n",
        "\n",
        "#from tensorflow import one_hot, argmax\n",
        "#sess = tf.Session()\n",
        "#with sess.as_default():\n",
        "#   samples_race = tf.one_hot(tf.argmax(samples[:,0:6], dimension = 1), depth = 6).eval()\n",
        "#   samples_sex = tf.one_hot(tf.argmax(samples[:,6:8], dimension = 1), depth = 2).eval()\n",
        "#   samples_age = tf.one_hot(tf.argmax(samples[:,8:11], dimension = 1), depth = 3).eval()\n",
        "#print(np.sum(X_train_onehot,axis=0))\n",
        "#print(np.sum(samples_race,axis=0))\n",
        "#print(np.sum(samples_sex,axis=0))\n",
        "#print(np.sum(samples_age,axis=0))\n",
        "\n",
        "\n",
        "\n",
        "#plt.hist(samples[:,8:11])\n",
        "\n",
        "#plt.plot(np.sum(X_train_onehot[:,0:6],axis=0))\n",
        "#plt.plot(np.sum(samples[:,0:6],axis=0))\n",
        "\n",
        "sample_vars = []\n",
        "\n",
        "idx = 0\n",
        "for i in cat_vector:\n",
        "  #sample_vars.append()\n",
        "  #y = pd.get_dummies()\n",
        "  if(i>0):\n",
        "    x = np.array([np.random.choice(i,size=1,p=j) for j in samples[:,idx:i+idx]])\n",
        "    sample_vars.append(pd.get_dummies(x[:,0]))\n",
        "    idx=i+idx\n",
        "  else:\n",
        "    sample_vars.append(samples[:,idx:idx+1])\n",
        "    idx = idx+1\n",
        "#pd.concat(sample_vars,axis=1\n",
        "plt.plot(np.sum(X_train_onehot[:,8:11],axis=0))\n",
        "plt.plot(np.sum(sample_vars[2],axis=0))\n"
      ],
      "execution_count": 0,
      "outputs": []
    },
    {
      "metadata": {
        "id": "zhP9D7uths-k",
        "colab_type": "code",
        "colab": {}
      },
      "cell_type": "code",
      "source": [
        ""
      ],
      "execution_count": 0,
      "outputs": []
    }
  ]
}